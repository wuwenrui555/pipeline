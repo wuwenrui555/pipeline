{
 "cells": [
  {
   "cell_type": "code",
   "execution_count": 9,
   "metadata": {},
   "outputs": [],
   "source": [
    "import os\n",
    "import xml.etree.ElementTree as ET\n",
    "from xml.dom.minidom import parseString\n",
    "\n",
    "import numpy as np\n",
    "import pandas as pd\n",
    "\n",
    "import tifffile"
   ]
  },
  {
   "cell_type": "markdown",
   "metadata": {},
   "source": [
    "# pack multiple images into one ome.tiff file"
   ]
  },
  {
   "cell_type": "code",
   "execution_count": null,
   "metadata": {},
   "outputs": [],
   "source": [
    "path_ometiff = \"path/to/save/ome.tiff\"\n",
    "im_paths = [\"path/to/image_1\", \"path/to/image_2\", \"path/to/image_3\"]\n",
    "im_names = [\"name_1\", \"name_2\", \"name_3\"]\n",
    "\n",
    "im_arrays = [tifffile.imread(path) for path in im_paths]\n",
    "im_arrays_stack = np.stack(im_arrays, axis=0).astype(np.uint16)\n",
    "tifffile.imwrite(\n",
    "    path_ometiff,\n",
    "    im_arrays_stack,\n",
    "    metadata={\"axes\": \"CYX\", \"Channel\": {\"Name\": im_names}},\n",
    "    ome=True,\n",
    ")"
   ]
  },
  {
   "cell_type": "markdown",
   "metadata": {},
   "source": [
    "# get metadata from ome.tiff"
   ]
  },
  {
   "cell_type": "code",
   "execution_count": 5,
   "metadata": {},
   "outputs": [
    {
     "data": {
      "text/plain": [
       "<tifffile.TiffFile 'TMA543_run1=reg…=reg021.ome.tiff'>"
      ]
     },
     "execution_count": 5,
     "metadata": {},
     "output_type": "execute_result"
    }
   ],
   "source": [
    "# Load the OME-TIFF file\n",
    "file_path = \"/mnt/nfs/home/wenruiwu/projects/bidmc-jiang-rcc/output/data/03_ometiff/TMA543_run1=reg001_run2=reg021.ome.tiff\"\n",
    "im = tifffile.TiffFile(file_path)\n",
    "im"
   ]
  },
  {
   "cell_type": "code",
   "execution_count": 7,
   "metadata": {},
   "outputs": [
    {
     "data": {
      "text/plain": [
       "(46, 5472, 5952)"
      ]
     },
     "execution_count": 7,
     "metadata": {},
     "output_type": "execute_result"
    }
   ],
   "source": [
    "im_array = im.asarray()\n",
    "im_array.shape"
   ]
  },
  {
   "cell_type": "code",
   "execution_count": null,
   "metadata": {},
   "outputs": [
    {
     "name": "stdout",
     "output_type": "stream",
     "text": [
      "<?xml version=\"1.0\" ?>\n",
      "<OME xmlns=\"http://www.openmicroscopy.org/Schemas/OME/2016-06\" xmlns:xsi=\"http://www.w3.org/2001/XMLSchema-instance\" xsi:schemaLocation=\"http://www.openmicroscopy.org/Schemas/OME/2016-06 http://www.openmicroscopy.org/Schemas/OME/2016-06/ome.xsd\" UUID=\"urn:uuid:99402df0-a70b-11ef-893a-0154ee850d17\" Creator=\"tifffile.py 2024.2.12\">\n",
      "    <Image ID=\"Image:0\" Name=\"Image0\">\n",
      "        <Pixels ID=\"Pixels:0\" DimensionOrder=\"XYCZT\" Type=\"uint16\" SizeX=\"5952\" SizeY=\"5472\" SizeC=\"46\" SizeZ=\"1\" SizeT=\"1\">\n",
      "            <Channel ID=\"Channel:0:0\" SamplesPerPixel=\"1\" Name=\"DAPI\">\n",
      "                <LightPath/>\n",
      "            </Channel>\n",
      "            <Channel ID=\"Channel:0:1\" SamplesPerPixel=\"1\" Name=\"CD45\">\n",
      "                <LightPath/>\n",
      "            </Channel>\n",
      "            <Channel ID=\"Channel:0:2\" SamplesPerPixel=\"1\" Name=\"CD3e\">\n",
      "                <LightPath/>\n",
      "            </Channel>\n",
      "            <Channel ID=\"Channel:0:3\" SamplesPerPixel=\"1\" Name=\"CD8\">\n",
      "                <LightPath/>\n",
      "            </Channel>\n",
      "            <Channel ID=\"Channel:0:4\" SamplesPerPixel=\"1\" Name=\"CD4\">\n",
      "                <LightPath/>\n",
      "            </Channel>\n",
      "            <Channel ID=\"Channel:0:5\" SamplesPerPixel=\"1\" Name=\"CD45RO\">\n",
      "                <LightPath/>\n",
      "            </Channel>\n",
      "            <Channel ID=\"Channel:0:6\" SamplesPerPixel=\"1\" Name=\"CD45RA\">\n",
      "                <LightPath/>\n",
      "            </Channel>\n",
      "            <Channel ID=\"Channel:0:7\" SamplesPerPixel=\"1\" Name=\"CD69\">\n",
      "                <LightPath/>\n",
      "            </Channel>\n",
      "            <Channel ID=\"Channel:0:8\" SamplesPerPixel=\"1\" Name=\"CD57\">\n",
      "                <LightPath/>\n",
      "            </Channel>\n",
      "            <Channel ID=\"Channel:0:9\" SamplesPerPixel=\"1\" Name=\"CD56\">\n",
      "                <LightPath/>\n",
      "            </Channel>\n",
      "            <Channel ID=\"Channel:0:10\" SamplesPerPixel=\"1\" Name=\"FoxP3\">\n",
      "                <LightPath/>\n",
      "            </Channel>\n",
      "            <Channel ID=\"Channel:0:11\" SamplesPerPixel=\"1\" Name=\"CD28\">\n",
      "                <LightPath/>\n",
      "            </Channel>\n",
      "            <Channel ID=\"Channel:0:12\" SamplesPerPixel=\"1\" Name=\"CD86\">\n",
      "                <LightPath/>\n",
      "            </Channel>\n",
      "            <Channel ID=\"Channel:0:13\" SamplesPerPixel=\"1\" Name=\"T-bet\">\n",
      "                <LightPath/>\n",
      "            </Channel>\n",
      "            <Channel ID=\"Channel:0:14\" SamplesPerPixel=\"1\" Name=\"TCF1_7\">\n",
      "                <LightPath/>\n",
      "            </Channel>\n",
      "            <Channel ID=\"Channel:0:15\" SamplesPerPixel=\"1\" Name=\"IFN-y\">\n",
      "                <LightPath/>\n",
      "            </Channel>\n",
      "            <Channel ID=\"Channel:0:16\" SamplesPerPixel=\"1\" Name=\"GranzymeB\">\n",
      "                <LightPath/>\n",
      "            </Channel>\n",
      "            <Channel ID=\"Channel:0:17\" SamplesPerPixel=\"1\" Name=\"Tox_Tox2\">\n",
      "                <LightPath/>\n",
      "            </Channel>\n",
      "            <Channel ID=\"Channel:0:18\" SamplesPerPixel=\"1\" Name=\"Tim-3\">\n",
      "                <LightPath/>\n",
      "            </Channel>\n",
      "            <Channel ID=\"Channel:0:19\" SamplesPerPixel=\"1\" Name=\"PD-1\">\n",
      "                <LightPath/>\n",
      "            </Channel>\n",
      "            <Channel ID=\"Channel:0:20\" SamplesPerPixel=\"1\" Name=\"LAG-3\">\n",
      "                <LightPath/>\n",
      "            </Channel>\n",
      "            <Channel ID=\"Channel:0:21\" SamplesPerPixel=\"1\" Name=\"CD20\">\n",
      "                <LightPath/>\n",
      "            </Channel>\n",
      "            <Channel ID=\"Channel:0:22\" SamplesPerPixel=\"1\" Name=\"CD138\">\n",
      "                <LightPath/>\n",
      "            </Channel>\n",
      "            <Channel ID=\"Channel:0:23\" SamplesPerPixel=\"1\" Name=\"CD68\">\n",
      "                <LightPath/>\n",
      "            </Channel>\n",
      "            <Channel ID=\"Channel:0:24\" SamplesPerPixel=\"1\" Name=\"TREM2\">\n",
      "                <LightPath/>\n",
      "            </Channel>\n",
      "            <Channel ID=\"Channel:0:25\" SamplesPerPixel=\"1\" Name=\"CD163\">\n",
      "                <LightPath/>\n",
      "            </Channel>\n",
      "            <Channel ID=\"Channel:0:26\" SamplesPerPixel=\"1\" Name=\"CD16\">\n",
      "                <LightPath/>\n",
      "            </Channel>\n",
      "            <Channel ID=\"Channel:0:27\" SamplesPerPixel=\"1\" Name=\"CD11b\">\n",
      "                <LightPath/>\n",
      "            </Channel>\n",
      "            <Channel ID=\"Channel:0:28\" SamplesPerPixel=\"1\" Name=\"CD11c\">\n",
      "                <LightPath/>\n",
      "            </Channel>\n",
      "            <Channel ID=\"Channel:0:29\" SamplesPerPixel=\"1\" Name=\"MPO\">\n",
      "                <LightPath/>\n",
      "            </Channel>\n",
      "            <Channel ID=\"Channel:0:30\" SamplesPerPixel=\"1\" Name=\"IDO-1\">\n",
      "                <LightPath/>\n",
      "            </Channel>\n",
      "            <Channel ID=\"Channel:0:31\" SamplesPerPixel=\"1\" Name=\"PD-L1\">\n",
      "                <LightPath/>\n",
      "            </Channel>\n",
      "            <Channel ID=\"Channel:0:32\" SamplesPerPixel=\"1\" Name=\"CA9\">\n",
      "                <LightPath/>\n",
      "            </Channel>\n",
      "            <Channel ID=\"Channel:0:33\" SamplesPerPixel=\"1\" Name=\"Cytokeratin\">\n",
      "                <LightPath/>\n",
      "            </Channel>\n",
      "            <Channel ID=\"Channel:0:34\" SamplesPerPixel=\"1\" Name=\"HLA1\">\n",
      "                <LightPath/>\n",
      "            </Channel>\n",
      "            <Channel ID=\"Channel:0:35\" SamplesPerPixel=\"1\" Name=\"Ki-67\">\n",
      "                <LightPath/>\n",
      "            </Channel>\n",
      "            <Channel ID=\"Channel:0:36\" SamplesPerPixel=\"1\" Name=\"P53\">\n",
      "                <LightPath/>\n",
      "            </Channel>\n",
      "            <Channel ID=\"Channel:0:37\" SamplesPerPixel=\"1\" Name=\"CD31\">\n",
      "                <LightPath/>\n",
      "            </Channel>\n",
      "            <Channel ID=\"Channel:0:38\" SamplesPerPixel=\"1\" Name=\"Podoplanin\">\n",
      "                <LightPath/>\n",
      "            </Channel>\n",
      "            <Channel ID=\"Channel:0:39\" SamplesPerPixel=\"1\" Name=\"aSMA\">\n",
      "                <LightPath/>\n",
      "            </Channel>\n",
      "            <Channel ID=\"Channel:0:40\" SamplesPerPixel=\"1\" Name=\"NaKATP\">\n",
      "                <LightPath/>\n",
      "            </Channel>\n",
      "            <Channel ID=\"Channel:0:41\" SamplesPerPixel=\"1\" Name=\"VDAC1\">\n",
      "                <LightPath/>\n",
      "            </Channel>\n",
      "            <Channel ID=\"Channel:0:42\" SamplesPerPixel=\"1\" Name=\"ATP5A\">\n",
      "                <LightPath/>\n",
      "            </Channel>\n",
      "            <Channel ID=\"Channel:0:43\" SamplesPerPixel=\"1\" Name=\"GLUT1\">\n",
      "                <LightPath/>\n",
      "            </Channel>\n",
      "            <Channel ID=\"Channel:0:44\" SamplesPerPixel=\"1\" Name=\"G6PD\">\n",
      "                <LightPath/>\n",
      "            </Channel>\n",
      "            <Channel ID=\"Channel:0:45\" SamplesPerPixel=\"1\" Name=\"C1Q\">\n",
      "                <LightPath/>\n",
      "            </Channel>\n",
      "            <TiffData IFD=\"0\" PlaneCount=\"46\"/>\n",
      "        </Pixels>\n",
      "    </Image>\n",
      "</OME>\n",
      "\n"
     ]
    }
   ],
   "source": [
    "# Raw XML string extracted from the OME-TIFF metadata\n",
    "xml_str = im.ome_metadata\n",
    "\n",
    "# Format the XML string into a more readable format with indentation\n",
    "formatted_xml = parseString(xml_str).toprettyxml(indent=\"    \")\n",
    "print(formatted_xml)\n"
   ]
  },
  {
   "cell_type": "code",
   "execution_count": 11,
   "metadata": {},
   "outputs": [
    {
     "name": "stdout",
     "output_type": "stream",
     "text": [
      "              ID         Name SamplesPerPixel\n",
      "0    Channel:0:0         DAPI               1\n",
      "1    Channel:0:1         CD45               1\n",
      "2    Channel:0:2         CD3e               1\n",
      "3    Channel:0:3          CD8               1\n",
      "4    Channel:0:4          CD4               1\n",
      "5    Channel:0:5       CD45RO               1\n",
      "6    Channel:0:6       CD45RA               1\n",
      "7    Channel:0:7         CD69               1\n",
      "8    Channel:0:8         CD57               1\n",
      "9    Channel:0:9         CD56               1\n",
      "10  Channel:0:10        FoxP3               1\n",
      "11  Channel:0:11         CD28               1\n",
      "12  Channel:0:12         CD86               1\n",
      "13  Channel:0:13        T-bet               1\n",
      "14  Channel:0:14       TCF1_7               1\n",
      "15  Channel:0:15        IFN-y               1\n",
      "16  Channel:0:16    GranzymeB               1\n",
      "17  Channel:0:17     Tox_Tox2               1\n",
      "18  Channel:0:18        Tim-3               1\n",
      "19  Channel:0:19         PD-1               1\n",
      "20  Channel:0:20        LAG-3               1\n",
      "21  Channel:0:21         CD20               1\n",
      "22  Channel:0:22        CD138               1\n",
      "23  Channel:0:23         CD68               1\n",
      "24  Channel:0:24        TREM2               1\n",
      "25  Channel:0:25        CD163               1\n",
      "26  Channel:0:26         CD16               1\n",
      "27  Channel:0:27        CD11b               1\n",
      "28  Channel:0:28        CD11c               1\n",
      "29  Channel:0:29          MPO               1\n",
      "30  Channel:0:30        IDO-1               1\n",
      "31  Channel:0:31        PD-L1               1\n",
      "32  Channel:0:32          CA9               1\n",
      "33  Channel:0:33  Cytokeratin               1\n",
      "34  Channel:0:34         HLA1               1\n",
      "35  Channel:0:35        Ki-67               1\n",
      "36  Channel:0:36          P53               1\n",
      "37  Channel:0:37         CD31               1\n",
      "38  Channel:0:38   Podoplanin               1\n",
      "39  Channel:0:39         aSMA               1\n",
      "40  Channel:0:40       NaKATP               1\n",
      "41  Channel:0:41        VDAC1               1\n",
      "42  Channel:0:42        ATP5A               1\n",
      "43  Channel:0:43        GLUT1               1\n",
      "44  Channel:0:44         G6PD               1\n",
      "45  Channel:0:45          C1Q               1\n"
     ]
    }
   ],
   "source": [
    "# Parse the XML string into an ElementTree object\n",
    "root = ET.fromstring(xml_str)\n",
    "\n",
    "# Define the namespace for the OME XML schema\n",
    "# The namespace is required to correctly locate elements in the XML structure\n",
    "namespace = {\"ome\": \"http://www.openmicroscopy.org/Schemas/OME/2016-06\"}\n",
    "\n",
    "# Iterate through all \"Channel\" elements in the XML\n",
    "# The \".//ome:Channel\" syntax finds all \"Channel\" elements at any level of the XML\n",
    "channels = []\n",
    "for channel in root.findall(\".//ome:Channel\", namespace):\n",
    "    channel_id = channel.get(\"ID\")\n",
    "    name = channel.get(\"Name\")\n",
    "    samples_per_pixel = channel.get(\"SamplesPerPixel\")\n",
    "    channels.append(\n",
    "        {\"ID\": channel_id, \"Name\": name, \"SamplesPerPixel\": samples_per_pixel}\n",
    "    )\n",
    "\n",
    "df = pd.DataFrame(channels)\n",
    "print(df)\n"
   ]
  }
 ],
 "metadata": {
  "kernelspec": {
   "display_name": "cellSeg",
   "language": "python",
   "name": "python3"
  },
  "language_info": {
   "codemirror_mode": {
    "name": "ipython",
    "version": 3
   },
   "file_extension": ".py",
   "mimetype": "text/x-python",
   "name": "python",
   "nbconvert_exporter": "python",
   "pygments_lexer": "ipython3",
   "version": "3.9.16"
  }
 },
 "nbformat": 4,
 "nbformat_minor": 2
}
