{
 "cells": [
  {
   "cell_type": "code",
   "execution_count": 35,
   "metadata": {},
   "outputs": [],
   "source": [
    "# cargo install proseg@1.1.9\n",
    "import pandas as pd\n",
    "import os\n",
    "from tqdm import tqdm\n",
    "import subprocess\n"
   ]
  },
  {
   "cell_type": "code",
   "execution_count": 36,
   "metadata": {},
   "outputs": [],
   "source": [
    "def run_proseg_fov(\n",
    "    dir_output_fov,\n",
    "    path_tx_fov,\n",
    "    z_layer,\n",
    "    n_threads=20,\n",
    "    x_column=\"x_global_px\",\n",
    "    y_column=\"y_global_px\",\n",
    "):\n",
    "    \"\"\"\n",
    "    Executes the 'proseg' command with the specified parameters.\n",
    "\n",
    "    Parameters:\n",
    "    ----------\n",
    "    dir_output_fov : str\n",
    "        Directory where the output files will be saved.\n",
    "    path_tx_fov : str\n",
    "        Path to the transcript file for the field of view.\n",
    "    z_layer : str\n",
    "        Voxel layers (z-layer).\n",
    "    n_threads : int, optional\n",
    "        Number of threads to use (default is 20).\n",
    "    x_column : str, optional\n",
    "        Name of the X column in the data (default is \"x_global_px\").\n",
    "    y_column : str, optional\n",
    "        Name of the Y column in the data (default is \"y_global_px\").\n",
    "\n",
    "    Returns:\n",
    "    -------\n",
    "    None\n",
    "    \"\"\"\n",
    "    # Define the command\n",
    "    command = f\"\"\"\n",
    "    proseg --cosmx \\\n",
    "        --nthreads {n_threads} \\\n",
    "        --x-column {x_column} --y-column {y_column} \\\n",
    "        --output-expected-counts \"{dir_output_fov}/cell-expected-counts.csv.gz\" \\\n",
    "        --output-cell-metadata \"{dir_output_fov}/cell-metadata.csv.gz\" \\\n",
    "        --output-transcript-metadata \"{dir_output_fov}/transcript-metadata.csv.gz\" \\\n",
    "        --output-gene-metadata \"{dir_output_fov}/gene-metadata.csv.gz\" \\\n",
    "        --output-cell-polygons \"{dir_output_fov}/cell-polygons.geojson.gz\" \\\n",
    "        --output-cell-polygon-layers \"{dir_output_fov}/cell-polygons-layers.geojson.gz\" \\\n",
    "        --output-cell-hulls \"{dir_output_fov}/cell-hulls.geojson.gz\" \\\n",
    "        --output-cell-voxels \"{dir_output_fov}/cell-voxels.csv.gz\" \\\n",
    "        --voxel-layers \"{z_layer}\" \\\n",
    "        \"{path_tx_fov}\"\n",
    "    \"\"\"\n",
    "\n",
    "    try:\n",
    "        # Execute the command in the terminal\n",
    "        subprocess.run(command, shell=True, check=True)\n",
    "        print(\"Command executed successfully!\")\n",
    "    except subprocess.CalledProcessError as e:\n",
    "        print(\"An error occurred while running the command.\")\n",
    "        print(e)\n"
   ]
  },
  {
   "cell_type": "code",
   "execution_count": 38,
   "metadata": {},
   "outputs": [],
   "source": [
    "path_tx = \"/mnt/nfs/storage/CosMX/Indepth_TMA971_section01_v132/AtoMx/flatFiles/Indepth_EBV971_CosMx/Indepth_EBV971_CosMx_tx_file.csv.gz\"\n",
    "dir_output_proseg = \"/mnt/nfs/home/wenruiwu/projects/indepth_cosmx_dlbcl/data/output/proseg\"\n"
   ]
  },
  {
   "cell_type": "code",
   "execution_count": null,
   "metadata": {},
   "outputs": [
    {
     "name": "stderr",
     "output_type": "stream",
     "text": [
      "100%|██████████| 20/20 [00:02<00:00,  9.49it/s]\n"
     ]
    }
   ],
   "source": [
    "\n",
    "\n",
    "df_tx = pd.read_csv(path_tx)\n",
    "for fov in tqdm(df_tx[\"fov\"].unique()):\n",
    "    dir_fov = os.path.join(dir_output_proseg, f\"{fov:03d}\")\n",
    "    os.makedirs(dir_fov, exist_ok=True)\n",
    "    \n",
    "    path_tx_fov = os.path.join(dir_fov, \"tx_file.csv\")\n",
    "    df_tx_fov = df_tx[df_tx[\"fov\"] == fov].reset_index(drop=True)\n",
    "    df_tx_fov.to_csv(path_tx_fov, index=False)\n",
    "    \n",
    "    z = sorted(df_tx_fov[\"z\"].unique())\n",
    "    z_layer = len(z)\n",
    "\n",
    "    run_proseg_fov(dir_fov, path_tx_fov, z_layer)\n"
   ]
  }
 ],
 "metadata": {
  "kernelspec": {
   "display_name": "cellSeg",
   "language": "python",
   "name": "python3"
  },
  "language_info": {
   "codemirror_mode": {
    "name": "ipython",
    "version": 3
   },
   "file_extension": ".py",
   "mimetype": "text/x-python",
   "name": "python",
   "nbconvert_exporter": "python",
   "pygments_lexer": "ipython3",
   "version": "3.9.16"
  }
 },
 "nbformat": 4,
 "nbformat_minor": 2
}
