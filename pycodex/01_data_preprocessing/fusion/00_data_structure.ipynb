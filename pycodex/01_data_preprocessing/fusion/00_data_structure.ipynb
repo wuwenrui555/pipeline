{
 "cells": [
  {
   "cell_type": "markdown",
   "metadata": {},
   "source": [
    "# Data Structure for Fusion Data\n",
    "\n",
    "```\n",
    "Scan1\n",
    "├── [name].qptiff\n",
    "└── .temp\n",
    "    └── MarkerList.txt\n",
    "```"
   ]
  },
  {
   "cell_type": "markdown",
   "metadata": {},
   "source": [
    "## 01. Organize Data\n",
    "\n",
    "CODEX downstream analysis is usually performed on the core/region level. So you need to first crop the whole slide image into regions. \n",
    "\n",
    "- Generate a GeoJSON file for cropping regions.\n",
    "- Generate a OME-TIFF file for each regions and put into a folder for each region. Make sure that each region has a unique ID.\n",
    "- Put the region folder under a root folder.\n",
    "\n",
    "```\n",
    "dir_root\n",
    "├── [unique region ID 1]\n",
    "│   └── [unique region ID 1].ome.tiff\n",
    "├── [unique region ID 2]\n",
    "│   └── [unique region ID 2].ome.tiff\n",
    "└── ...\n",
    "```"
   ]
  }
 ],
 "metadata": {
  "kernelspec": {
   "display_name": "cellSeg_test",
   "language": "python",
   "name": "python3"
  },
  "language_info": {
   "codemirror_mode": {
    "name": "ipython",
    "version": 3
   },
   "file_extension": ".py",
   "mimetype": "text/x-python",
   "name": "python",
   "nbconvert_exporter": "python",
   "pygments_lexer": "ipython3",
   "version": "3.9.16"
  }
 },
 "nbformat": 4,
 "nbformat_minor": 2
}
