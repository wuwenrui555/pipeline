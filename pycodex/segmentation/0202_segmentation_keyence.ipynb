{
 "cells": [
  {
   "cell_type": "markdown",
   "metadata": {},
   "source": [
    "# Segmentation for Keyence\n",
    "\n",
    "pycodex version 0.1.5"
   ]
  },
  {
   "cell_type": "code",
   "execution_count": 1,
   "metadata": {},
   "outputs": [
    {
     "name": "stderr",
     "output_type": "stream",
     "text": [
      "2024-10-26 02:42:12,867 - INFO - Using GPU(s): ['/physical_device:GPU:0', '/physical_device:GPU:1', '/physical_device:GPU:2', '/physical_device:GPU:3']\n"
     ]
    }
   ],
   "source": [
    "from pycodex import io, metadata\n",
    "\n",
    "io.setup_gpu(\"0,1,2,3\")"
   ]
  },
  {
   "cell_type": "code",
   "execution_count": 2,
   "metadata": {},
   "outputs": [],
   "source": [
    "########################################################################################################################\n",
    "\n",
    "marker_dir = \"/mnt/nfs/storage/RCC/RCC_formal_CODEX/RCC_TMA543/images/final\"\n",
    "output_dir = \"/mnt/nfs/home/wenruiwu/projects/shuli_rcc/output/data/segmentation_20241022_run1\"\n",
    "\n",
    "boundary_markers = [\"CD45\", \"NaKATP\", \"HLA1\", \"G6PD\", \"CD8\", \"CD20\", \"CD31\"]\n",
    "internal_markers = [\"Ch1Cy1\", \"aSMA\"]\n",
    "pixel_size_um = 377.5202 / 1000\n",
    "scale = True\n",
    "maxima_threshold = 0.075\n",
    "interior_threshold = 0.20\n",
    "\n",
    "########################################################################################################################\n"
   ]
  },
  {
   "cell_type": "code",
   "execution_count": 3,
   "metadata": {},
   "outputs": [
    {
     "name": "stdout",
     "output_type": "stream",
     "text": [
      "Summary of Markers:\n",
      "- Total unique markers: 77\n",
      "- Unique markers: 75 ['ATP5A', 'C1Q', 'CA9_250ms', 'CA9_500ms', 'CD11b', 'CD11c', 'CD138', 'CD16', 'CD163', 'CD20', 'CD28', 'CD31', 'CD3e', 'CD4', 'CD45', 'CD45RA', 'CD45RO', 'CD56', 'CD57', 'CD68', 'CD69', 'CD8', 'CD86', 'Ch1Cy1', 'Ch1Cy10', 'Ch1Cy11', 'Ch1Cy12', 'Ch1Cy13', 'Ch1Cy14', 'Ch1Cy15', 'Ch1Cy16', 'Ch1Cy17', 'Ch1Cy18', 'Ch1Cy19', 'Ch1Cy2', 'Ch1Cy20', 'Ch1Cy21', 'Ch1Cy22', 'Ch1Cy23', 'Ch1Cy24', 'Ch1Cy25', 'Ch1Cy28', 'Ch1Cy3', 'Ch1Cy30', 'Ch1Cy31', 'Ch1Cy4', 'Ch1Cy5', 'Ch1Cy6', 'Ch1Cy7', 'Ch1Cy8', 'Ch1Cy9', 'Cytokeratin', 'DIG_TREM2', 'FoxP3', 'G6PD', 'GLUT1', 'GranzymeB', 'HLA1', 'IDO-1', 'IFN-y', 'Ki-67', 'LAG-3', 'MPO', 'NaKATP', 'P53', 'PD-1', 'PDL1_100_500ms', 'PDL1_50_250ms', 'Podoplanin', 'T-bet', 'TCF1_7', 'Tim-3', 'Tox_Tox2', 'VDAC1', 'aSMA']\n",
      "- Blank markers: 2 ['Blank', 'BLANK_500ms_1']\n",
      "- Markers duplicated in some regions: 0 []\n",
      "- Markers missing in some regions: 0 []\n",
      "\n",
      "Summary of Selected Markers:\n",
      "- Valid markers: ['CD45', 'NaKATP', 'HLA1', 'G6PD', 'CD8', 'CD20', 'CD31', 'Ch1Cy1', 'aSMA']\n",
      "- Invalid markers: []\n"
     ]
    }
   ],
   "source": [
    "# test input\n",
    "metadata_dict = io.organize_metadata_keyence(marker_dir)\n",
    "unique_markers, _, _, _ = metadata.summary_markers(metadata_dict)\n",
    "\n",
    "print(\"\\nSummary of Selected Markers:\")\n",
    "print(f\"- Valid markers: {[marker for marker in boundary_markers + internal_markers if marker in unique_markers]}\")\n",
    "print(f\"- Invalid markers: {[marker for marker in boundary_markers + internal_markers if marker not in unique_markers]}\")"
   ]
  },
  {
   "cell_type": "code",
   "execution_count": 4,
   "metadata": {},
   "outputs": [
    {
     "name": "stdout",
     "output_type": "stream",
     "text": [
      "\u001b[01;34m/mnt/nfs/home/wenruiwu/projects/shuli_rcc/output/data/segmentation_20241022_run1\u001b[00m\n",
      "├── \u001b[01;34mcropped\u001b[00m\n",
      "│   ├── \u001b[01;34mreg001\u001b[00m\n",
      "│   ├── \u001b[01;34mreg002\u001b[00m\n",
      "│   ├── \u001b[01;34mreg003\u001b[00m\n",
      "│   ├── \u001b[01;34mreg004\u001b[00m\n",
      "│   ├── \u001b[01;34mreg005\u001b[00m\n",
      "│   ├── \u001b[01;34mreg006\u001b[00m\n",
      "│   ├── \u001b[01;34mreg007\u001b[00m\n",
      "│   ├── \u001b[01;34mreg008\u001b[00m\n",
      "│   ├── \u001b[01;34mreg009\u001b[00m\n",
      "│   ├── \u001b[01;34mreg010\u001b[00m\n",
      "│   ├── \u001b[01;34mreg011\u001b[00m\n",
      "│   ├── \u001b[01;34mreg012\u001b[00m\n",
      "│   ├── \u001b[01;34mreg013\u001b[00m\n",
      "│   ├── \u001b[01;34mreg014\u001b[00m\n",
      "│   ├── \u001b[01;34mreg015\u001b[00m\n",
      "│   ├── \u001b[01;34mreg016\u001b[00m\n",
      "│   ├── \u001b[01;34mreg017\u001b[00m\n",
      "│   ├── \u001b[01;34mreg018\u001b[00m\n",
      "│   ├── \u001b[01;34mreg019\u001b[00m\n",
      "│   ├── \u001b[01;34mreg020\u001b[00m\n",
      "│   ├── \u001b[01;34mreg021\u001b[00m\n",
      "│   ├── \u001b[01;34mreg022\u001b[00m\n",
      "│   ├── \u001b[01;34mreg023\u001b[00m\n",
      "│   ├── \u001b[01;34mreg024\u001b[00m\n",
      "│   └── \u001b[01;34mreg025\u001b[00m\n",
      "└── \u001b[01;34msegmentation\u001b[00m\n",
      "    ├── parameter_segmentation.json\n",
      "    ├── \u001b[01;34mreg001\u001b[00m\n",
      "    ├── \u001b[01;34mreg002\u001b[00m\n",
      "    ├── \u001b[01;34mreg003\u001b[00m\n",
      "    ├── \u001b[01;34mreg004\u001b[00m\n",
      "    ├── \u001b[01;34mreg005\u001b[00m\n",
      "    ├── \u001b[01;34mreg006\u001b[00m\n",
      "    ├── \u001b[01;34mreg007\u001b[00m\n",
      "    ├── \u001b[01;34mreg008\u001b[00m\n",
      "    ├── \u001b[01;34mreg009\u001b[00m\n",
      "    ├── \u001b[01;34mreg010\u001b[00m\n",
      "    ├── \u001b[01;34mreg011\u001b[00m\n",
      "    ├── \u001b[01;34mreg012\u001b[00m\n",
      "    ├── \u001b[01;34mreg013\u001b[00m\n",
      "    ├── \u001b[01;34mreg014\u001b[00m\n",
      "    ├── \u001b[01;34mreg015\u001b[00m\n",
      "    ├── \u001b[01;34mreg016\u001b[00m\n",
      "    ├── \u001b[01;34mreg017\u001b[00m\n",
      "    ├── \u001b[01;34mreg018\u001b[00m\n",
      "    ├── \u001b[01;34mreg019\u001b[00m\n",
      "    ├── \u001b[01;34mreg020\u001b[00m\n",
      "    ├── \u001b[01;34mreg021\u001b[00m\n",
      "    ├── \u001b[01;34mreg022\u001b[00m\n",
      "    ├── \u001b[01;34mreg023\u001b[00m\n",
      "    ├── \u001b[01;34mreg024\u001b[00m\n",
      "    └── \u001b[01;34mreg025\u001b[00m\n",
      "\n",
      "52 directories, 1 file\n"
     ]
    }
   ],
   "source": [
    "# test output\n",
    "!tree $output_dir -L 2"
   ]
  }
 ],
 "metadata": {
  "kernelspec": {
   "display_name": "cellSeg",
   "language": "python",
   "name": "python3"
  },
  "language_info": {
   "codemirror_mode": {
    "name": "ipython",
    "version": 3
   },
   "file_extension": ".py",
   "mimetype": "text/x-python",
   "name": "python",
   "nbconvert_exporter": "python",
   "pygments_lexer": "ipython3",
   "version": "3.9.16"
  }
 },
 "nbformat": 4,
 "nbformat_minor": 2
}
