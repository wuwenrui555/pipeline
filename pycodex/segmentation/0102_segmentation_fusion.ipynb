{
 "cells": [
  {
   "cell_type": "markdown",
   "metadata": {},
   "source": [
    "# Segmentation for Fusion\n",
    "\n",
    "pycodex version 0.1.5"
   ]
  },
  {
   "cell_type": "code",
   "execution_count": 1,
   "metadata": {},
   "outputs": [
    {
     "name": "stderr",
     "output_type": "stream",
     "text": [
      "2024-10-26 03:00:35,982 - INFO - Using GPU(s): ['/physical_device:GPU:0', '/physical_device:GPU:1', '/physical_device:GPU:2', '/physical_device:GPU:3']\n"
     ]
    }
   ],
   "source": [
    "from pycodex import io, metadata\n",
    "\n",
    "io.setup_gpu(\"0,1,2,3\")\n"
   ]
  },
  {
   "cell_type": "markdown",
   "metadata": {},
   "source": [
    "# 00. Data Overview"
   ]
  },
  {
   "cell_type": "code",
   "execution_count": 2,
   "metadata": {},
   "outputs": [],
   "source": [
    "########################################################################################################################\n",
    "\n",
    "marker_dir = \"/mnt/nfs/home/wenruiwu/projects/steph_periodontal/data/output/periodontal\"\n",
    "output_dir = \"/mnt/nfs/home/wenruiwu/projects/steph_periodontal/output/data/segmentation_20241022_run2\"\n",
    "\n",
    "boundary_markers = [\"HLA-1\", \"CD31\", \"E-cadherin\", \"CD68\", \"CD3e\", \"HLA-DR\", \"CD15\", \"Vimentin\"]\n",
    "internal_markers = [\"DAPI\", \"a-SMA\"]\n",
    "pixel_size_um = 0.5068164319979996\n",
    "scale = True\n",
    "maxima_threshold = 0.075\n",
    "interior_threshold = 0.20\n",
    "\n",
    "########################################################################################################################\n"
   ]
  },
  {
   "cell_type": "code",
   "execution_count": 3,
   "metadata": {},
   "outputs": [
    {
     "name": "stdout",
     "output_type": "stream",
     "text": [
      "Summary of Markers:\n",
      "- Total unique markers: 28\n",
      "- Unique markers: 26 ['CD11b', 'CD11c', 'CD138', 'CD15', 'CD31', 'CD3e', 'CD4', 'CD44', 'CD45', 'CD56', 'CD68', 'CD8', 'COLA1', 'DAPI', 'E-cadherin', 'HLA-1', 'HLA-DR', 'HLA-E', 'ICOS', 'KRT14', 'Ki67', 'MUC5AC', 'MUC5B', 'Pax5', 'Vimentin', 'a-SMA']\n",
      "- Blank markers: 2 ['Blank-75', 'Blank-75_2']\n",
      "- Markers duplicated in some regions: 0 []\n",
      "- Markers missing in some regions: 0 []\n",
      "\n",
      "Summary of Selected Markers:\n",
      "- Valid markers: ['HLA-1', 'CD31', 'E-cadherin', 'CD68', 'CD3e', 'HLA-DR', 'CD15', 'Vimentin', 'DAPI', 'a-SMA']\n",
      "- Invalid markers: []\n"
     ]
    }
   ],
   "source": [
    "# test input\n",
    "metadata_dict = io.organize_metadata_fusion(marker_dir)\n",
    "unique_markers, _, _, _ = metadata.summary_markers(metadata_dict)\n",
    "\n",
    "print(\"\\nSummary of Selected Markers:\")\n",
    "print(f\"- Valid markers: {[marker for marker in boundary_markers + internal_markers if marker in unique_markers]}\")\n",
    "print(\n",
    "    f\"- Invalid markers: {[marker for marker in boundary_markers + internal_markers if marker not in unique_markers]}\"\n",
    ")\n"
   ]
  },
  {
   "cell_type": "code",
   "execution_count": 4,
   "metadata": {},
   "outputs": [
    {
     "name": "stdout",
     "output_type": "stream",
     "text": [
      "\u001b[01;34m/mnt/nfs/home/wenruiwu/projects/steph_periodontal/output/data/segmentation_20241022_run2\u001b[00m\n",
      "├── \u001b[01;34mcropped\u001b[00m\n",
      "│   ├── \u001b[01;34mreg001\u001b[00m\n",
      "│   ├── \u001b[01;34mreg002\u001b[00m\n",
      "│   ├── \u001b[01;34mreg003\u001b[00m\n",
      "│   ├── \u001b[01;34mreg004\u001b[00m\n",
      "│   └── \u001b[01;34mreg005\u001b[00m\n",
      "└── \u001b[01;34msegmentation\u001b[00m\n",
      "    ├── parameter_segmentation.json\n",
      "    ├── \u001b[01;34mreg001\u001b[00m\n",
      "    ├── \u001b[01;34mreg002\u001b[00m\n",
      "    ├── \u001b[01;34mreg003\u001b[00m\n",
      "    ├── \u001b[01;34mreg004\u001b[00m\n",
      "    └── \u001b[01;34mreg005\u001b[00m\n",
      "\n",
      "12 directories, 1 file\n"
     ]
    }
   ],
   "source": [
    "# test output\n",
    "!tree $output_dir -L 2\n"
   ]
  }
 ],
 "metadata": {
  "kernelspec": {
   "display_name": "cellSeg",
   "language": "python",
   "name": "python3"
  },
  "language_info": {
   "codemirror_mode": {
    "name": "ipython",
    "version": 3
   },
   "file_extension": ".py",
   "mimetype": "text/x-python",
   "name": "python",
   "nbconvert_exporter": "python",
   "pygments_lexer": "ipython3",
   "version": "3.9.16"
  }
 },
 "nbformat": 4,
 "nbformat_minor": 2
}
