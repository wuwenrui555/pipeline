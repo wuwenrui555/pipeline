{
 "cells": [
  {
   "cell_type": "markdown",
   "metadata": {},
   "source": [
    "# Data Structure for Keyence Data\n",
    "\n",
    "Wenrui Wu, 2024-12-29"
   ]
  },
  {
   "cell_type": "code",
   "execution_count": 1,
   "metadata": {},
   "outputs": [],
   "source": [
    "import sys\n",
    "from io import StringIO\n",
    "\n",
    "import pandas as pd\n",
    "\n",
    "from pycodex.cls import MarkerMetadata\n",
    "\n",
    "sys.path.append(\"..\")\n",
    "from src.preprocess import KeyencePreprocessor"
   ]
  },
  {
   "cell_type": "markdown",
   "metadata": {
    "vscode": {
     "languageId": "plaintext"
    }
   },
   "source": [
    "## 01. Data Structure\n",
    "\n",
    "### Output from Keyence platform\n",
    "\n",
    "The images of different markers for each region are stored in a corresponding region folder (e.g., `final/reg001`). \n",
    "\n",
    "All markers are named in a uniform format: `reg[region number]_cyc[cycle number]_ch[channel number]_[marker name].tif`. Note: Ch1Cy1 is for DAPI on channel 1 of cycle 1.\n",
    "\n",
    "```\n",
    "final\n",
    "├── reg001\n",
    "│   ├── reg001_cyc001_ch001_Ch1Cy1.tif\n",
    "│   ├── reg001_cyc001_ch003_Blank.tif\n",
    "│   ├── reg001_cyc001_ch004_Blank.tif\n",
    "│   └── ...\n",
    "└── ...\n",
    "```\n",
    "\n",
    "### Input for this pipeline\n",
    "\n",
    "First you need to organize your data from different TMAs. \n",
    "\n",
    "Put all the region folders under a root folder. Make sure that each region has a unique id, especially for regions from different TMAs. \n",
    "\n",
    "Recommendation: `[TMA id]_[region id]`, e.g., TMA544_reg001. \n",
    "\n",
    "```\n",
    "dir_root\n",
    "├── [unique region id]\n",
    "│   ├── reg001_cyc001_ch001_Ch1Cy1.tif\n",
    "│   ├── reg001_cyc001_ch003_Blank.tif\n",
    "│   ├── reg001_cyc001_ch004_Blank.tif\n",
    "│   └── ...\n",
    "└── ...\n",
    "```"
   ]
  },
  {
   "cell_type": "markdown",
   "metadata": {},
   "source": [
    "## 02. Review Data"
   ]
  },
  {
   "cell_type": "code",
   "execution_count": 2,
   "metadata": {},
   "outputs": [],
   "source": [
    "################################################################################\n",
    "dir_root = \"/mnt/nfs/storage/RCC/RCC_formal_CODEX/RCC_TMA001-run1/reg_4x5/images/final/\"\n",
    "################################################################################\n",
    "\n",
    "metadatas = MarkerMetadata(dir_root)"
   ]
  },
  {
   "cell_type": "markdown",
   "metadata": {},
   "source": [
    "Review the root directory: \n",
    "\n",
    "Ideally, there is only multiple folders under the root directory. "
   ]
  },
  {
   "cell_type": "code",
   "execution_count": 3,
   "metadata": {},
   "outputs": [
    {
     "name": "stdout",
     "output_type": "stream",
     "text": [
      "Folders: ['reg001', 'reg002', 'reg003', 'reg004', 'reg005', 'reg006', 'reg007', 'reg008', 'reg009', 'reg010', 'reg011', 'reg012', 'reg013', 'reg014']\n"
     ]
    }
   ],
   "source": [
    "metadatas.summary_dir()"
   ]
  },
  {
   "cell_type": "markdown",
   "metadata": {},
   "source": [
    "Organize the metadata of the marker images:\n",
    "\n",
    "As the images of a specific region are stored under a subfolder (region folder), we set `subfolders=True`"
   ]
  },
  {
   "cell_type": "code",
   "execution_count": 4,
   "metadata": {},
   "outputs": [
    {
     "name": "stdout",
     "output_type": "stream",
     "text": [
      "Summary of Regions:\n",
      "    - Total regions: 14 ['reg001', 'reg002', 'reg003', 'reg004', 'reg005', 'reg006', 'reg007', 'reg008', 'reg009', 'reg010', 'reg011', 'reg012', 'reg013', 'reg014']\n",
      "Summary of Markers:\n",
      "    - Total unique markers: 73\n",
      "    - Unique markers: 72 ['ATP5A', 'C1Q', 'CA9', 'CD11b', 'CD11c', 'CD138', 'CD16', 'CD163', 'CD20', 'CD28', 'CD31', 'CD3e', 'CD4', 'CD45', 'CD45RA', 'CD45RO', 'CD56', 'CD57', 'CD68', 'CD69', 'CD8', 'CD86', 'Ch1Cy1', 'Ch1Cy10', 'Ch1Cy11', 'Ch1Cy12', 'Ch1Cy13', 'Ch1Cy14', 'Ch1Cy15', 'Ch1Cy16', 'Ch1Cy17', 'Ch1Cy18', 'Ch1Cy19', 'Ch1Cy2', 'Ch1Cy20', 'Ch1Cy21', 'Ch1Cy22', 'Ch1Cy23', 'Ch1Cy26', 'Ch1Cy27', 'Ch1Cy28', 'Ch1Cy3', 'Ch1Cy4', 'Ch1Cy5', 'Ch1Cy6', 'Ch1Cy7', 'Ch1Cy8', 'Ch1Cy9', 'Cytokeratin', 'DIG_TREM2', 'FoxP3', 'G6PD', 'GLUT1', 'GranzymeB', 'HLA1', 'IDO-1', 'IFN-y', 'Ki-67', 'LAG-3', 'MPO', 'NaKATP', 'P53', 'PD-1', 'PDL1_100_500ms', 'PDL1_50_250ms', 'Podoplanin', 'T-bet', 'TCF1_7', 'Tim-3', 'Tox_Tox2', 'VDAC1', 'aSMA']\n",
      "    - Blank markers: 1 ['Blank']\n",
      "    - Missing markers: 0\n"
     ]
    }
   ],
   "source": [
    "metadatas.organize_metadata(platform=\"keyence\", subfolders=True)\n",
    "metadatas.summary_metadata()"
   ]
  },
  {
   "cell_type": "markdown",
   "metadata": {},
   "source": [
    "Review the regions and markers you have: \n",
    "\n",
    "Recommand to copy the names of the regions and markers printed here to avoid typo (as invalid names are renamed)"
   ]
  },
  {
   "cell_type": "code",
   "execution_count": 5,
   "metadata": {},
   "outputs": [
    {
     "data": {
      "text/html": [
       "<div>\n",
       "<style scoped>\n",
       "    .dataframe tbody tr th:only-of-type {\n",
       "        vertical-align: middle;\n",
       "    }\n",
       "\n",
       "    .dataframe tbody tr th {\n",
       "        vertical-align: top;\n",
       "    }\n",
       "\n",
       "    .dataframe thead th {\n",
       "        text-align: right;\n",
       "    }\n",
       "</style>\n",
       "<table border=\"1\" class=\"dataframe\">\n",
       "  <thead>\n",
       "    <tr style=\"text-align: right;\">\n",
       "      <th></th>\n",
       "      <th>1</th>\n",
       "      <th>2</th>\n",
       "      <th>3</th>\n",
       "      <th>4</th>\n",
       "      <th>5</th>\n",
       "      <th>6</th>\n",
       "      <th>7</th>\n",
       "      <th>8</th>\n",
       "      <th>9</th>\n",
       "      <th>10</th>\n",
       "    </tr>\n",
       "  </thead>\n",
       "  <tbody>\n",
       "    <tr>\n",
       "      <th>0</th>\n",
       "      <td>reg001</td>\n",
       "      <td>reg002</td>\n",
       "      <td>reg003</td>\n",
       "      <td>reg004</td>\n",
       "      <td>reg005</td>\n",
       "      <td>reg006</td>\n",
       "      <td>reg007</td>\n",
       "      <td>reg008</td>\n",
       "      <td>reg009</td>\n",
       "      <td>reg010</td>\n",
       "    </tr>\n",
       "    <tr>\n",
       "      <th>1</th>\n",
       "      <td>reg011</td>\n",
       "      <td>reg012</td>\n",
       "      <td>reg013</td>\n",
       "      <td>reg014</td>\n",
       "      <td></td>\n",
       "      <td></td>\n",
       "      <td></td>\n",
       "      <td></td>\n",
       "      <td></td>\n",
       "      <td></td>\n",
       "    </tr>\n",
       "  </tbody>\n",
       "</table>\n",
       "</div>"
      ],
      "text/plain": [
       "       1       2       3       4       5       6       7       8       9   \\\n",
       "0  reg001  reg002  reg003  reg004  reg005  reg006  reg007  reg008  reg009   \n",
       "1  reg011  reg012  reg013  reg014                                           \n",
       "\n",
       "       10  \n",
       "0  reg010  \n",
       "1          "
      ]
     },
     "metadata": {},
     "output_type": "display_data"
    },
    {
     "data": {
      "text/html": [
       "<div>\n",
       "<style scoped>\n",
       "    .dataframe tbody tr th:only-of-type {\n",
       "        vertical-align: middle;\n",
       "    }\n",
       "\n",
       "    .dataframe tbody tr th {\n",
       "        vertical-align: top;\n",
       "    }\n",
       "\n",
       "    .dataframe thead th {\n",
       "        text-align: right;\n",
       "    }\n",
       "</style>\n",
       "<table border=\"1\" class=\"dataframe\">\n",
       "  <thead>\n",
       "    <tr style=\"text-align: right;\">\n",
       "      <th></th>\n",
       "      <th>1</th>\n",
       "      <th>2</th>\n",
       "      <th>3</th>\n",
       "      <th>4</th>\n",
       "      <th>5</th>\n",
       "    </tr>\n",
       "  </thead>\n",
       "  <tbody>\n",
       "    <tr>\n",
       "      <th>0</th>\n",
       "      <td>ATP5A</td>\n",
       "      <td>C1Q</td>\n",
       "      <td>CA9</td>\n",
       "      <td>CD11b</td>\n",
       "      <td>CD11c</td>\n",
       "    </tr>\n",
       "    <tr>\n",
       "      <th>1</th>\n",
       "      <td>CD138</td>\n",
       "      <td>CD16</td>\n",
       "      <td>CD163</td>\n",
       "      <td>CD20</td>\n",
       "      <td>CD28</td>\n",
       "    </tr>\n",
       "    <tr>\n",
       "      <th>2</th>\n",
       "      <td>CD31</td>\n",
       "      <td>CD3e</td>\n",
       "      <td>CD4</td>\n",
       "      <td>CD45</td>\n",
       "      <td>CD45RA</td>\n",
       "    </tr>\n",
       "    <tr>\n",
       "      <th>3</th>\n",
       "      <td>CD45RO</td>\n",
       "      <td>CD56</td>\n",
       "      <td>CD57</td>\n",
       "      <td>CD68</td>\n",
       "      <td>CD69</td>\n",
       "    </tr>\n",
       "    <tr>\n",
       "      <th>4</th>\n",
       "      <td>CD8</td>\n",
       "      <td>CD86</td>\n",
       "      <td>Ch1Cy1</td>\n",
       "      <td>Ch1Cy10</td>\n",
       "      <td>Ch1Cy11</td>\n",
       "    </tr>\n",
       "    <tr>\n",
       "      <th>5</th>\n",
       "      <td>Ch1Cy12</td>\n",
       "      <td>Ch1Cy13</td>\n",
       "      <td>Ch1Cy14</td>\n",
       "      <td>Ch1Cy15</td>\n",
       "      <td>Ch1Cy16</td>\n",
       "    </tr>\n",
       "    <tr>\n",
       "      <th>6</th>\n",
       "      <td>Ch1Cy17</td>\n",
       "      <td>Ch1Cy18</td>\n",
       "      <td>Ch1Cy19</td>\n",
       "      <td>Ch1Cy2</td>\n",
       "      <td>Ch1Cy20</td>\n",
       "    </tr>\n",
       "    <tr>\n",
       "      <th>7</th>\n",
       "      <td>Ch1Cy21</td>\n",
       "      <td>Ch1Cy22</td>\n",
       "      <td>Ch1Cy23</td>\n",
       "      <td>Ch1Cy26</td>\n",
       "      <td>Ch1Cy27</td>\n",
       "    </tr>\n",
       "    <tr>\n",
       "      <th>8</th>\n",
       "      <td>Ch1Cy28</td>\n",
       "      <td>Ch1Cy3</td>\n",
       "      <td>Ch1Cy4</td>\n",
       "      <td>Ch1Cy5</td>\n",
       "      <td>Ch1Cy6</td>\n",
       "    </tr>\n",
       "    <tr>\n",
       "      <th>9</th>\n",
       "      <td>Ch1Cy7</td>\n",
       "      <td>Ch1Cy8</td>\n",
       "      <td>Ch1Cy9</td>\n",
       "      <td>Cytokeratin</td>\n",
       "      <td>DIG_TREM2</td>\n",
       "    </tr>\n",
       "    <tr>\n",
       "      <th>10</th>\n",
       "      <td>FoxP3</td>\n",
       "      <td>G6PD</td>\n",
       "      <td>GLUT1</td>\n",
       "      <td>GranzymeB</td>\n",
       "      <td>HLA1</td>\n",
       "    </tr>\n",
       "    <tr>\n",
       "      <th>11</th>\n",
       "      <td>IDO-1</td>\n",
       "      <td>IFN-y</td>\n",
       "      <td>Ki-67</td>\n",
       "      <td>LAG-3</td>\n",
       "      <td>MPO</td>\n",
       "    </tr>\n",
       "    <tr>\n",
       "      <th>12</th>\n",
       "      <td>NaKATP</td>\n",
       "      <td>P53</td>\n",
       "      <td>PD-1</td>\n",
       "      <td>PDL1_100_500ms</td>\n",
       "      <td>PDL1_50_250ms</td>\n",
       "    </tr>\n",
       "    <tr>\n",
       "      <th>13</th>\n",
       "      <td>Podoplanin</td>\n",
       "      <td>T-bet</td>\n",
       "      <td>TCF1_7</td>\n",
       "      <td>Tim-3</td>\n",
       "      <td>Tox_Tox2</td>\n",
       "    </tr>\n",
       "    <tr>\n",
       "      <th>14</th>\n",
       "      <td>VDAC1</td>\n",
       "      <td>aSMA</td>\n",
       "      <td></td>\n",
       "      <td></td>\n",
       "      <td></td>\n",
       "    </tr>\n",
       "  </tbody>\n",
       "</table>\n",
       "</div>"
      ],
      "text/plain": [
       "             1        2        3               4              5\n",
       "0        ATP5A      C1Q      CA9           CD11b          CD11c\n",
       "1        CD138     CD16    CD163            CD20           CD28\n",
       "2         CD31     CD3e      CD4            CD45         CD45RA\n",
       "3       CD45RO     CD56     CD57            CD68           CD69\n",
       "4          CD8     CD86   Ch1Cy1         Ch1Cy10        Ch1Cy11\n",
       "5      Ch1Cy12  Ch1Cy13  Ch1Cy14         Ch1Cy15        Ch1Cy16\n",
       "6      Ch1Cy17  Ch1Cy18  Ch1Cy19          Ch1Cy2        Ch1Cy20\n",
       "7      Ch1Cy21  Ch1Cy22  Ch1Cy23         Ch1Cy26        Ch1Cy27\n",
       "8      Ch1Cy28   Ch1Cy3   Ch1Cy4          Ch1Cy5         Ch1Cy6\n",
       "9       Ch1Cy7   Ch1Cy8   Ch1Cy9     Cytokeratin      DIG_TREM2\n",
       "10       FoxP3     G6PD    GLUT1       GranzymeB           HLA1\n",
       "11       IDO-1    IFN-y    Ki-67           LAG-3            MPO\n",
       "12      NaKATP      P53     PD-1  PDL1_100_500ms  PDL1_50_250ms\n",
       "13  Podoplanin    T-bet   TCF1_7           Tim-3       Tox_Tox2\n",
       "14       VDAC1     aSMA                                        "
      ]
     },
     "metadata": {},
     "output_type": "display_data"
    }
   ],
   "source": [
    "metadatas.display_items(metadatas.regions)\n",
    "metadatas.display_items(metadatas.unique_markers, ncol=5)"
   ]
  },
  {
   "cell_type": "markdown",
   "metadata": {},
   "source": [
    "## 03. Output Data for Review\n",
    "\n",
    "There are multiple DAPI images from the Keyence platform. Some of them are full of artifacts and some of them are clean. So you need to select the best DAPI for downstream analysis. Also, you can select, rename, and order your markers in a specific and reasonable order. \n",
    "\n",
    "\n",
    "### Output of this step\n",
    "\n",
    "- `metadata_dapi.csv`: `region` column for all regions, and `dapi` column for DAPI you select, fill in the marker names displayed above (`Ch1Cy1`, rather than `reg001_cyc001_ch001_Ch1Cy1`) \n",
    "\n",
    "- Multiple OME-TIFF files with all DAPI markers for each region.\n",
    "\n",
    "- `metadata_marker.csv`: metadata of all the markers except for DAPI. You need to:\n",
    "\n",
    "    - Remove the rows of the DAPI images that are not included in the final OME-TIFF file\n",
    "\n",
    "    - Fill the `channel_name` column for each marker, which is the names shown in the final OME-TIFF file (e.g., rename `DIG_TREM2` to `TREM2`)\n",
    "    \n",
    "    - Modify the order of the rows, which will be the order of the markers in the final OME-TIFF file"
   ]
  },
  {
   "cell_type": "code",
   "execution_count": 6,
   "metadata": {},
   "outputs": [
    {
     "name": "stdout",
     "output_type": "stream",
     "text": [
      "Summary of Regions:\n",
      "    - Total regions: 14 ['reg001', 'reg002', 'reg003', 'reg004', 'reg005', 'reg006', 'reg007', 'reg008', 'reg009', 'reg010', 'reg011', 'reg012', 'reg013', 'reg014']\n",
      "Summary of Markers:\n",
      "    - Total unique markers: 73\n",
      "    - Unique markers: 72 ['ATP5A', 'C1Q', 'CA9', 'CD11b', 'CD11c', 'CD138', 'CD16', 'CD163', 'CD20', 'CD28', 'CD31', 'CD3e', 'CD4', 'CD45', 'CD45RA', 'CD45RO', 'CD56', 'CD57', 'CD68', 'CD69', 'CD8', 'CD86', 'Ch1Cy1', 'Ch1Cy10', 'Ch1Cy11', 'Ch1Cy12', 'Ch1Cy13', 'Ch1Cy14', 'Ch1Cy15', 'Ch1Cy16', 'Ch1Cy17', 'Ch1Cy18', 'Ch1Cy19', 'Ch1Cy2', 'Ch1Cy20', 'Ch1Cy21', 'Ch1Cy22', 'Ch1Cy23', 'Ch1Cy26', 'Ch1Cy27', 'Ch1Cy28', 'Ch1Cy3', 'Ch1Cy4', 'Ch1Cy5', 'Ch1Cy6', 'Ch1Cy7', 'Ch1Cy8', 'Ch1Cy9', 'Cytokeratin', 'DIG_TREM2', 'FoxP3', 'G6PD', 'GLUT1', 'GranzymeB', 'HLA1', 'IDO-1', 'IFN-y', 'Ki-67', 'LAG-3', 'MPO', 'NaKATP', 'P53', 'PD-1', 'PDL1_100_500ms', 'PDL1_50_250ms', 'Podoplanin', 'T-bet', 'TCF1_7', 'Tim-3', 'Tox_Tox2', 'VDAC1', 'aSMA']\n",
      "    - Blank markers: 1 ['Blank']\n",
      "    - Missing markers: 0\n"
     ]
    }
   ],
   "source": [
    "################################################################################\n",
    "dir_root = \"/mnt/nfs/storage/RCC/RCC_formal_CODEX/RCC_TMA001-run1/reg_4x5/images/final/\"\n",
    "dir_output_review = \"/mnt/nfs/storage/wenruiwu_temp/pipeline/keyence/01_preprocess\"\n",
    "################################################################################\n",
    "\n",
    "keyence = KeyencePreprocessor(dir_root)"
   ]
  },
  {
   "cell_type": "code",
   "execution_count": 7,
   "metadata": {},
   "outputs": [
    {
     "name": "stderr",
     "output_type": "stream",
     "text": [
      "  0%|          | 0/14 [00:00<?, ?it/s]"
     ]
    },
    {
     "name": "stdout",
     "output_type": "stream",
     "text": [
      "Exporting DAPI OME-TIFF for: reg001\n"
     ]
    },
    {
     "name": "stderr",
     "output_type": "stream",
     "text": [
      "Loading images: 100%|██████████| 26/26 [00:00<00:00, 496.16it/s]\n",
      "Writing images: 100%|██████████| 6/6 [00:22<00:00,  3.70s/it]\n",
      "  7%|▋         | 1/14 [00:22<04:51, 22.44s/it]"
     ]
    },
    {
     "name": "stdout",
     "output_type": "stream",
     "text": [
      "\n",
      "Exporting DAPI OME-TIFF for: reg002\n"
     ]
    },
    {
     "name": "stderr",
     "output_type": "stream",
     "text": [
      "Loading images: 100%|██████████| 26/26 [00:00<00:00, 498.28it/s]\n",
      "Writing images: 100%|██████████| 6/6 [00:21<00:00,  3.66s/it]\n",
      " 14%|█▍        | 2/14 [00:44<04:27, 22.30s/it]"
     ]
    },
    {
     "name": "stdout",
     "output_type": "stream",
     "text": [
      "\n",
      "Exporting DAPI OME-TIFF for: reg003\n"
     ]
    },
    {
     "name": "stderr",
     "output_type": "stream",
     "text": [
      "Loading images: 100%|██████████| 26/26 [00:00<00:00, 559.75it/s]\n",
      "Writing images: 100%|██████████| 6/6 [00:25<00:00,  4.23s/it]\n",
      " 21%|██▏       | 3/14 [01:10<04:22, 23.84s/it]"
     ]
    },
    {
     "name": "stdout",
     "output_type": "stream",
     "text": [
      "\n",
      "Exporting DAPI OME-TIFF for: reg004\n"
     ]
    },
    {
     "name": "stderr",
     "output_type": "stream",
     "text": [
      "Loading images: 100%|██████████| 26/26 [00:00<00:00, 599.09it/s]\n",
      "Writing images: 100%|██████████| 6/6 [00:22<00:00,  3.80s/it]\n",
      " 29%|██▊       | 4/14 [01:33<03:55, 23.52s/it]"
     ]
    },
    {
     "name": "stdout",
     "output_type": "stream",
     "text": [
      "\n",
      "Exporting DAPI OME-TIFF for: reg005\n"
     ]
    },
    {
     "name": "stderr",
     "output_type": "stream",
     "text": [
      "Loading images: 100%|██████████| 26/26 [00:00<00:00, 567.82it/s]\n",
      "Writing images: 100%|██████████| 6/6 [00:21<00:00,  3.60s/it]\n",
      " 36%|███▌      | 5/14 [01:55<03:26, 22.92s/it]"
     ]
    },
    {
     "name": "stdout",
     "output_type": "stream",
     "text": [
      "\n",
      "Exporting DAPI OME-TIFF for: reg006\n"
     ]
    },
    {
     "name": "stderr",
     "output_type": "stream",
     "text": [
      "Loading images: 100%|██████████| 26/26 [00:00<00:00, 586.04it/s]\n",
      "Writing images: 100%|██████████| 6/6 [00:23<00:00,  3.84s/it]\n",
      " 43%|████▎     | 6/14 [02:18<03:04, 23.04s/it]"
     ]
    },
    {
     "name": "stdout",
     "output_type": "stream",
     "text": [
      "\n",
      "Exporting DAPI OME-TIFF for: reg007\n"
     ]
    },
    {
     "name": "stderr",
     "output_type": "stream",
     "text": [
      "Loading images: 100%|██████████| 26/26 [00:00<00:00, 577.47it/s]\n",
      "Writing images: 100%|██████████| 6/6 [00:22<00:00,  3.76s/it]\n",
      " 50%|█████     | 7/14 [02:41<02:40, 22.96s/it]"
     ]
    },
    {
     "name": "stdout",
     "output_type": "stream",
     "text": [
      "\n",
      "Exporting DAPI OME-TIFF for: reg008\n"
     ]
    },
    {
     "name": "stderr",
     "output_type": "stream",
     "text": [
      "Loading images: 100%|██████████| 26/26 [00:00<00:00, 468.53it/s]\n",
      "Writing images: 100%|██████████| 6/6 [00:24<00:00,  4.02s/it]\n",
      " 57%|█████▋    | 8/14 [03:05<02:20, 23.43s/it]"
     ]
    },
    {
     "name": "stdout",
     "output_type": "stream",
     "text": [
      "\n",
      "Exporting DAPI OME-TIFF for: reg009\n"
     ]
    },
    {
     "name": "stderr",
     "output_type": "stream",
     "text": [
      "Loading images: 100%|██████████| 26/26 [00:00<00:00, 576.55it/s]\n",
      "Writing images: 100%|██████████| 6/6 [00:27<00:00,  4.58s/it]\n",
      " 64%|██████▍   | 9/14 [03:33<02:03, 24.77s/it]"
     ]
    },
    {
     "name": "stdout",
     "output_type": "stream",
     "text": [
      "\n",
      "Exporting DAPI OME-TIFF for: reg010\n"
     ]
    },
    {
     "name": "stderr",
     "output_type": "stream",
     "text": [
      "Loading images: 100%|██████████| 26/26 [00:00<00:00, 575.91it/s]\n",
      "Writing images: 100%|██████████| 6/6 [00:24<00:00,  4.14s/it]\n",
      " 71%|███████▏  | 10/14 [03:58<01:39, 24.86s/it]"
     ]
    },
    {
     "name": "stdout",
     "output_type": "stream",
     "text": [
      "\n",
      "Exporting DAPI OME-TIFF for: reg011\n"
     ]
    },
    {
     "name": "stderr",
     "output_type": "stream",
     "text": [
      "Loading images: 100%|██████████| 26/26 [00:00<00:00, 559.92it/s]\n",
      "Writing images: 100%|██████████| 6/6 [00:29<00:00,  4.94s/it]\n",
      " 79%|███████▊  | 11/14 [04:28<01:19, 26.41s/it]"
     ]
    },
    {
     "name": "stdout",
     "output_type": "stream",
     "text": [
      "\n",
      "Exporting DAPI OME-TIFF for: reg012\n"
     ]
    },
    {
     "name": "stderr",
     "output_type": "stream",
     "text": [
      "Loading images: 100%|██████████| 26/26 [00:00<00:00, 603.83it/s]\n",
      "Writing images: 100%|██████████| 6/6 [00:21<00:00,  3.65s/it]\n",
      " 86%|████████▌ | 12/14 [04:51<00:50, 25.30s/it]"
     ]
    },
    {
     "name": "stdout",
     "output_type": "stream",
     "text": [
      "\n",
      "Exporting DAPI OME-TIFF for: reg013\n"
     ]
    },
    {
     "name": "stderr",
     "output_type": "stream",
     "text": [
      "Loading images: 100%|██████████| 26/26 [00:03<00:00,  6.96it/s]\n",
      "Writing images: 100%|██████████| 6/6 [00:33<00:00,  5.62s/it]\n",
      " 93%|█████████▎| 13/14 [05:29<00:29, 29.11s/it]"
     ]
    },
    {
     "name": "stdout",
     "output_type": "stream",
     "text": [
      "\n",
      "Exporting DAPI OME-TIFF for: reg014\n"
     ]
    },
    {
     "name": "stderr",
     "output_type": "stream",
     "text": [
      "Loading images: 100%|██████████| 26/26 [00:00<00:00, 563.49it/s]\n",
      "Writing images: 100%|██████████| 6/6 [00:23<00:00,  3.85s/it]\n",
      "100%|██████████| 14/14 [05:52<00:00, 25.17s/it]"
     ]
    },
    {
     "name": "stdout",
     "output_type": "stream",
     "text": [
      "\n"
     ]
    },
    {
     "name": "stderr",
     "output_type": "stream",
     "text": [
      "\n"
     ]
    }
   ],
   "source": [
    "# Generate DAPI OME-TIFF and metadata\n",
    "keyence.export_dapi_ometiff_and_metadata(dir_output_review)"
   ]
  },
  {
   "cell_type": "markdown",
   "metadata": {},
   "source": [
    "## 04. Organize Data"
   ]
  },
  {
   "cell_type": "code",
   "execution_count": 8,
   "metadata": {},
   "outputs": [],
   "source": [
    "################################################################################\n",
    "# copy from Excel\n",
    "string_metadata_dapi = \"\"\"\n",
    "region\tdapi\n",
    "reg001\tCh1Cy1\n",
    "reg002\tCh1Cy2\n",
    "reg003\tCh1Cy3\n",
    "reg004\tCh1Cy1\n",
    "reg005\tCh1Cy2\n",
    "reg006\tCh1Cy3\n",
    "reg007\tCh1Cy1\n",
    "reg008\tCh1Cy2\n",
    "reg009\tCh1Cy3\n",
    "reg010\tCh1Cy1\n",
    "reg011\tCh1Cy2\n",
    "reg012\tCh1Cy3\n",
    "reg013\tCh1Cy1\n",
    "reg014\tCh1Cy2\n",
    "\"\"\"\n",
    "\n",
    "string_metadata_marker = \"\"\"\n",
    "marker\tchannel_name\n",
    "CD45\tCD45\n",
    "CD3e\tCD3e\n",
    "CD8\tCD8\n",
    "CD4\tCD4\n",
    "CD45RO\tCD45RO\n",
    "CD45RA\tCD45RA\n",
    "CD69\tCD69\n",
    "CD57\tCD57\n",
    "CD56\tCD56\n",
    "FoxP3\tFoxP3\n",
    "CD28\tCD28\n",
    "CD86\tCD86\n",
    "T-bet\tT-bet\n",
    "TCF1_7\tTCF1_7\n",
    "IFN-y\tIFN-y\n",
    "GranzymeB\tGranzymeB\n",
    "Tox_Tox2\tTox_Tox2\n",
    "Tim-3\tTim-3\n",
    "PD-1\tPD-1\n",
    "LAG-3\tLAG-3\n",
    "CD20\tCD20\n",
    "CD138\tCD138\n",
    "CD68\tCD68\n",
    "DIG_TREM2\tTREM2\n",
    "CD163\tCD163\n",
    "CD16\tCD16\n",
    "CD11b\tCD11b\n",
    "CD11c\tCD11c\n",
    "MPO\tMPO\n",
    "IDO-1\tIDO-1\n",
    "PDL1_100_500ms\tPD-L1\n",
    "CA9\tCA9\n",
    "Cytokeratin\tCytokeratin\n",
    "HLA1\tHLA1\n",
    "Ki-67\tKi-67\n",
    "P53\tP53\n",
    "CD31\tCD31\n",
    "Podoplanin\tPodoplanin\n",
    "aSMA\taSMA\n",
    "NaKATP\tNaKATP\n",
    "VDAC1\tVDAC1\n",
    "ATP5A\tATP5A\n",
    "GLUT1\tGLUT1\n",
    "G6PD\tG6PD\n",
    "C1Q\tC1Q\n",
    "\"\"\"\n",
    "################################################################################\n",
    "\n",
    "df_metadata_dapi = pd.read_csv(StringIO(string_metadata_dapi), sep=\"\\t\")\n",
    "df_metadata_marker = pd.read_csv(StringIO(string_metadata_marker), sep=\"\\t\")"
   ]
  },
  {
   "cell_type": "code",
   "execution_count": 9,
   "metadata": {},
   "outputs": [
    {
     "name": "stderr",
     "output_type": "stream",
     "text": [
      "  0%|          | 0/14 [00:00<?, ?it/s]"
     ]
    },
    {
     "name": "stdout",
     "output_type": "stream",
     "text": [
      "Exporting OME-TIFF for: reg001\n"
     ]
    },
    {
     "name": "stderr",
     "output_type": "stream",
     "text": [
      "Loading images: 100%|██████████| 46/46 [00:00<00:00, 539.19it/s]\n",
      "Writing images: 100%|██████████| 6/6 [00:26<00:00,  4.42s/it]\n",
      "  7%|▋         | 1/14 [00:26<05:48, 26.79s/it]"
     ]
    },
    {
     "name": "stdout",
     "output_type": "stream",
     "text": [
      "\n",
      "Exporting OME-TIFF for: reg002\n"
     ]
    },
    {
     "name": "stderr",
     "output_type": "stream",
     "text": [
      "Loading images: 100%|██████████| 46/46 [00:00<00:00, 525.71it/s]\n",
      "Writing images: 100%|██████████| 6/6 [00:29<00:00,  4.98s/it]\n",
      " 14%|█▍        | 2/14 [00:57<05:51, 29.31s/it]"
     ]
    },
    {
     "name": "stdout",
     "output_type": "stream",
     "text": [
      "\n",
      "Exporting OME-TIFF for: reg003\n"
     ]
    },
    {
     "name": "stderr",
     "output_type": "stream",
     "text": [
      "Loading images: 100%|██████████| 46/46 [00:05<00:00,  8.09it/s]\n",
      "Writing images: 100%|██████████| 6/6 [00:32<00:00,  5.43s/it]\n",
      " 21%|██▏       | 3/14 [01:36<06:09, 33.63s/it]"
     ]
    },
    {
     "name": "stdout",
     "output_type": "stream",
     "text": [
      "\n",
      "Exporting OME-TIFF for: reg004\n"
     ]
    },
    {
     "name": "stderr",
     "output_type": "stream",
     "text": [
      "Loading images: 100%|██████████| 46/46 [00:00<00:00, 589.18it/s]\n",
      "Writing images: 100%|██████████| 6/6 [00:40<00:00,  6.67s/it]\n",
      " 29%|██▊       | 4/14 [02:17<06:06, 36.63s/it]"
     ]
    },
    {
     "name": "stdout",
     "output_type": "stream",
     "text": [
      "\n",
      "Exporting OME-TIFF for: reg005\n"
     ]
    },
    {
     "name": "stderr",
     "output_type": "stream",
     "text": [
      "Loading images: 100%|██████████| 46/46 [00:06<00:00,  6.80it/s]\n",
      "Writing images: 100%|██████████| 6/6 [00:30<00:00,  5.13s/it]\n",
      " 36%|███▌      | 5/14 [02:55<05:33, 37.10s/it]"
     ]
    },
    {
     "name": "stdout",
     "output_type": "stream",
     "text": [
      "\n",
      "Exporting OME-TIFF for: reg006\n"
     ]
    },
    {
     "name": "stderr",
     "output_type": "stream",
     "text": [
      "Loading images: 100%|██████████| 46/46 [00:00<00:00, 223.41it/s]\n",
      "Writing images: 100%|██████████| 6/6 [00:38<00:00,  6.39s/it]\n",
      " 43%|████▎     | 6/14 [03:35<05:03, 37.98s/it]"
     ]
    },
    {
     "name": "stdout",
     "output_type": "stream",
     "text": [
      "\n",
      "Exporting OME-TIFF for: reg007\n"
     ]
    },
    {
     "name": "stderr",
     "output_type": "stream",
     "text": [
      "Loading images: 100%|██████████| 46/46 [00:06<00:00,  7.25it/s]\n",
      "Writing images: 100%|██████████| 6/6 [00:28<00:00,  4.77s/it]\n",
      " 50%|█████     | 7/14 [04:10<04:19, 37.09s/it]"
     ]
    },
    {
     "name": "stdout",
     "output_type": "stream",
     "text": [
      "\n",
      "Exporting OME-TIFF for: reg008\n"
     ]
    },
    {
     "name": "stderr",
     "output_type": "stream",
     "text": [
      "Loading images: 100%|██████████| 46/46 [00:00<00:00, 550.25it/s]\n",
      "Writing images: 100%|██████████| 6/6 [00:26<00:00,  4.38s/it]\n",
      " 57%|█████▋    | 8/14 [04:37<03:22, 33.72s/it]"
     ]
    },
    {
     "name": "stdout",
     "output_type": "stream",
     "text": [
      "\n",
      "Exporting OME-TIFF for: reg009\n"
     ]
    },
    {
     "name": "stderr",
     "output_type": "stream",
     "text": [
      "Loading images: 100%|██████████| 46/46 [00:00<00:00, 651.26it/s]\n",
      "Writing images: 100%|██████████| 6/6 [00:21<00:00,  3.52s/it]\n",
      " 64%|██████▍   | 9/14 [04:58<02:29, 29.83s/it]"
     ]
    },
    {
     "name": "stdout",
     "output_type": "stream",
     "text": [
      "\n",
      "Exporting OME-TIFF for: reg010\n"
     ]
    },
    {
     "name": "stderr",
     "output_type": "stream",
     "text": [
      "Loading images: 100%|██████████| 46/46 [00:00<00:00, 586.24it/s]\n",
      "Writing images: 100%|██████████| 6/6 [00:23<00:00,  3.84s/it]\n",
      " 71%|███████▏  | 10/14 [05:21<01:51, 27.78s/it]"
     ]
    },
    {
     "name": "stdout",
     "output_type": "stream",
     "text": [
      "\n",
      "Exporting OME-TIFF for: reg011\n"
     ]
    },
    {
     "name": "stderr",
     "output_type": "stream",
     "text": [
      "Loading images: 100%|██████████| 46/46 [00:00<00:00, 673.04it/s]\n",
      "Writing images: 100%|██████████| 6/6 [00:27<00:00,  4.54s/it]\n",
      " 79%|███████▊  | 11/14 [05:49<01:23, 27.68s/it]"
     ]
    },
    {
     "name": "stdout",
     "output_type": "stream",
     "text": [
      "\n",
      "Exporting OME-TIFF for: reg012\n"
     ]
    },
    {
     "name": "stderr",
     "output_type": "stream",
     "text": [
      "Loading images: 100%|██████████| 46/46 [00:00<00:00, 588.26it/s]\n",
      "Writing images: 100%|██████████| 6/6 [00:21<00:00,  3.64s/it]\n",
      " 86%|████████▌ | 12/14 [06:11<00:51, 25.95s/it]"
     ]
    },
    {
     "name": "stdout",
     "output_type": "stream",
     "text": [
      "\n",
      "Exporting OME-TIFF for: reg013\n"
     ]
    },
    {
     "name": "stderr",
     "output_type": "stream",
     "text": [
      "Loading images: 100%|██████████| 46/46 [00:00<00:00, 539.41it/s]\n",
      "Writing images: 100%|██████████| 6/6 [00:21<00:00,  3.66s/it]\n",
      " 93%|█████████▎| 13/14 [06:33<00:24, 24.78s/it]"
     ]
    },
    {
     "name": "stdout",
     "output_type": "stream",
     "text": [
      "\n",
      "Exporting OME-TIFF for: reg014\n"
     ]
    },
    {
     "name": "stderr",
     "output_type": "stream",
     "text": [
      "Loading images: 100%|██████████| 46/46 [00:00<00:00, 597.71it/s]\n",
      "Writing images: 100%|██████████| 6/6 [00:24<00:00,  4.12s/it]\n",
      "100%|██████████| 14/14 [06:58<00:00, 29.87s/it]"
     ]
    },
    {
     "name": "stdout",
     "output_type": "stream",
     "text": [
      "\n"
     ]
    },
    {
     "name": "stderr",
     "output_type": "stream",
     "text": [
      "\n"
     ]
    }
   ],
   "source": [
    "################################################################################\n",
    "dir_output_ometiff = \"/mnt/nfs/storage/wenruiwu_temp/pipeline/keyence/02_ometiff\"\n",
    "################################################################################\n",
    "\n",
    "# Generate final OME-TIFF\n",
    "keyence.export_ometiff(dir_output_ometiff, df_metadata_dapi, df_metadata_marker)"
   ]
  },
  {
   "cell_type": "markdown",
   "metadata": {},
   "source": [
    "# 05. Review Output\n",
    "\n",
    "A OME-TIFF file for each region is exported under directory for each region. "
   ]
  },
  {
   "cell_type": "code",
   "execution_count": 10,
   "metadata": {},
   "outputs": [
    {
     "name": "stdout",
     "output_type": "stream",
     "text": [
      "\u001b[01;34m/mnt/nfs/storage/wenruiwu_temp/pipeline/keyence/02_ometiff\u001b[00m\n",
      "├── metadata_dapi.csv\n",
      "├── metadata_marker.csv\n",
      "├── \u001b[01;34mreg001\u001b[00m\n",
      "│   └── reg001.ome.tiff\n",
      "├── \u001b[01;34mreg002\u001b[00m\n",
      "│   └── reg002.ome.tiff\n",
      "├── \u001b[01;34mreg003\u001b[00m\n",
      "│   └── reg003.ome.tiff\n",
      "├── \u001b[01;34mreg004\u001b[00m\n",
      "│   └── reg004.ome.tiff\n",
      "├── \u001b[01;34mreg005\u001b[00m\n",
      "│   └── reg005.ome.tiff\n",
      "├── \u001b[01;34mreg006\u001b[00m\n",
      "│   └── reg006.ome.tiff\n",
      "├── \u001b[01;34mreg007\u001b[00m\n",
      "│   └── reg007.ome.tiff\n",
      "├── \u001b[01;34mreg008\u001b[00m\n",
      "│   └── reg008.ome.tiff\n",
      "├── \u001b[01;34mreg009\u001b[00m\n",
      "│   └── reg009.ome.tiff\n",
      "├── \u001b[01;34mreg010\u001b[00m\n",
      "│   └── reg010.ome.tiff\n",
      "├── \u001b[01;34mreg011\u001b[00m\n",
      "│   └── reg011.ome.tiff\n",
      "├── \u001b[01;34mreg012\u001b[00m\n",
      "│   └── reg012.ome.tiff\n",
      "├── \u001b[01;34mreg013\u001b[00m\n",
      "│   └── reg013.ome.tiff\n",
      "└── \u001b[01;34mreg014\u001b[00m\n",
      "    └── reg014.ome.tiff\n",
      "\n",
      "14 directories, 16 files\n"
     ]
    }
   ],
   "source": [
    "!tree $dir_output_ometiff"
   ]
  }
 ],
 "metadata": {
  "kernelspec": {
   "display_name": "cellSeg_test",
   "language": "python",
   "name": "python3"
  },
  "language_info": {
   "codemirror_mode": {
    "name": "ipython",
    "version": 3
   },
   "file_extension": ".py",
   "mimetype": "text/x-python",
   "name": "python",
   "nbconvert_exporter": "python",
   "pygments_lexer": "ipython3",
   "version": "3.9.16"
  }
 },
 "nbformat": 4,
 "nbformat_minor": 2
}
