{
 "cells": [
  {
   "cell_type": "markdown",
   "metadata": {},
   "source": [
    "# Data Preprocess for Fusion Data\n",
    "\n",
    "Wenrui Wu, 2024-12-28"
   ]
  },
  {
   "cell_type": "code",
   "execution_count": 1,
   "metadata": {},
   "outputs": [
    {
     "name": "stderr",
     "output_type": "stream",
     "text": [
      "/opt/miniconda3/envs/cellSeg_test/lib/python3.9/site-packages/tqdm_joblib/__init__.py:4: TqdmExperimentalWarning: Using `tqdm.autonotebook.tqdm` in notebook mode. Use `tqdm.tqdm` instead to force console mode (e.g. in jupyter console)\n",
      "  from tqdm.autonotebook import tqdm\n"
     ]
    }
   ],
   "source": [
    "import os\n",
    "from pathlib import Path\n",
    "\n",
    "import numpy as np\n",
    "from pyqupath.geojson import crop_dict_by_geojson\n",
    "from pyqupath.ometiff import export_ometiff_pyramid_from_dict, load_tiff_to_dict"
   ]
  },
  {
   "cell_type": "markdown",
   "metadata": {},
   "source": [
    "## 01. Data Structure\n",
    "\n",
    "The output data structure of Fusion platform is: \n",
    "\n",
    "```\n",
    "Scan1\n",
    "├── [name].qptiff\n",
    "└── .temp\n",
    "    └── MarkerList.txt\n",
    "```"
   ]
  },
  {
   "cell_type": "markdown",
   "metadata": {},
   "source": [
    "## 02. Organize Data\n",
    "\n",
    "CODEX downstream analysis is usually performed on the core/region level. So you need to first crop the whole slide image into multiple regions. \n",
    "\n",
    "- Annotate different regions using QuPath and its Polygon tools. Export the annotation as GeoJSON file. \n",
    "\n",
    "- Put the following files into a folder (`dir_root`):\n",
    "    - `.qptiff`\n",
    "\n",
    "    - `MarkerList.txt`\n",
    "    \n",
    "    - `cropping_regions.geojson`\n",
    "\n",
    "```\n",
    "/path/dir_root\n",
    "├── [name].qptiff\n",
    "├── cropping_regions.geojson\n",
    "└── MarkerList.txt\n",
    "```"
   ]
  },
  {
   "cell_type": "code",
   "execution_count": 2,
   "metadata": {},
   "outputs": [
    {
     "name": "stdout",
     "output_type": "stream",
     "text": [
      "\u001b[01;34m/mnt/nfs/storage/wenruiwu_temp/pipeline/fusion/00_raw_data\u001b[00m\n",
      "├── cropping_regions.geojson\n",
      "├── \u001b[01;32mMarkerList.txt\u001b[00m\n",
      "└── Periodontal_CODEX-S8_Scan1.er.qptiff\n",
      "\n",
      "0 directories, 3 files\n"
     ]
    }
   ],
   "source": [
    "################################################################################\n",
    "dir_root = \"/mnt/nfs/storage/wenruiwu_temp/pipeline/fusion/00_raw_data/\"\n",
    "################################################################################\n",
    "\n",
    "dir_root = Path(dir_root)\n",
    "\n",
    "# review all the files in the root directory\n",
    "!tree $dir_root"
   ]
  },
  {
   "cell_type": "code",
   "execution_count": 3,
   "metadata": {},
   "outputs": [],
   "source": [
    "# parse the dir_root\n",
    "path_markerlist = dir_root / \"MarkerList.txt\"\n",
    "path_geojson = dir_root / \"cropping_regions.geojson\"\n",
    "paths_qptiff = list(dir_root.glob(\"*.qptiff\"))\n",
    "if len(paths_qptiff) == 1:\n",
    "    path_qptiff = paths_qptiff[0]\n",
    "else:\n",
    "    raise ValueError(\"There should be only one qptiff file in the directory\")"
   ]
  },
  {
   "cell_type": "code",
   "execution_count": 4,
   "metadata": {},
   "outputs": [
    {
     "data": {
      "text/plain": [
       "['DAPI',\n",
       " 'CD56',\n",
       " 'CD3e',\n",
       " 'CD8',\n",
       " 'CD15',\n",
       " 'CD138',\n",
       " 'HLA-E',\n",
       " 'CD45',\n",
       " 'CD31',\n",
       " 'CD68',\n",
       " 'Pax5',\n",
       " 'CD11b',\n",
       " 'CD11c',\n",
       " 'CD4',\n",
       " 'MUC5AC',\n",
       " 'MUC5B',\n",
       " 'HLA-DR',\n",
       " 'CD44',\n",
       " 'ICOS',\n",
       " 'E-cadherin',\n",
       " 'COLA1',\n",
       " 'KRT14',\n",
       " 'a-SMA',\n",
       " 'HLA-1',\n",
       " 'Ki67',\n",
       " 'Vimentin',\n",
       " 'Blank-75',\n",
       " 'Blank-75']"
      ]
     },
     "execution_count": 4,
     "metadata": {},
     "output_type": "execute_result"
    }
   ],
   "source": [
    "# review the channels in the qptiff file\n",
    "channels_name = np.loadtxt(path_markerlist, dtype=str).tolist()\n",
    "channels_name"
   ]
  },
  {
   "cell_type": "markdown",
   "metadata": {},
   "source": [
    "## 03. Order and Rename Markers\n",
    "\n",
    "`channels_order`: select and order markers from the `MarkerList.txt`. \n",
    "\n",
    "`channels_rename`: in the same length of `channels_order`, which are the corresponding new names for markers in the `channels_order`. "
   ]
  },
  {
   "cell_type": "code",
   "execution_count": 5,
   "metadata": {},
   "outputs": [],
   "source": [
    "################################################################################\n",
    "# selcet the channels that are needed (e.g., exclude the Blank channels)\")\n",
    "channels_order = [\n",
    "    \"DAPI\",\n",
    "    \"CD45\",\n",
    "    \"CD3e\",\n",
    "    \"CD4\",\n",
    "    \"CD8\",\n",
    "    \"CD56\",\n",
    "    \"CD11b\",\n",
    "    \"CD11c\",\n",
    "    \"CD138\",\n",
    "    \"Pax5\",\n",
    "    \"CD68\",\n",
    "    \"CD15\",\n",
    "    \"CD31\",\n",
    "    \"HLA-E\",\n",
    "    \"HLA-DR\",\n",
    "    \"E-cadherin\",\n",
    "    \"MUC5AC\",\n",
    "    \"MUC5B\",\n",
    "    \"COLA1\",\n",
    "    \"KRT14\",\n",
    "    \"a-SMA\",\n",
    "    \"Vimentin\",\n",
    "    \"ICOS\",\n",
    "    \"CD44\",\n",
    "    \"Ki67\",\n",
    "    \"HLA-1\",\n",
    "]\n",
    "channels_rename = None  # If None, the channels will not be renamed\n",
    "################################################################################"
   ]
  },
  {
   "cell_type": "markdown",
   "metadata": {},
   "source": [
    "## 04. Crop QPTIFF into Multiple OME-TIFF"
   ]
  },
  {
   "cell_type": "code",
   "execution_count": 6,
   "metadata": {},
   "outputs": [],
   "source": [
    "################################################################################  \n",
    "dir_output = \"/mnt/nfs/storage/wenruiwu_temp/pipeline/fusion/01_preprocess/\"\n",
    "################################################################################\n",
    "\n",
    "dir_output = Path(dir_output)"
   ]
  },
  {
   "cell_type": "code",
   "execution_count": 7,
   "metadata": {},
   "outputs": [
    {
     "name": "stderr",
     "output_type": "stream",
     "text": [
      "Loading images: 100%|██████████| 26/26 [00:32<00:00,  1.24s/it]\n",
      "Cropping regions:   0%|          | 0/6 [00:00<?, ?it/s]"
     ]
    },
    {
     "name": "stdout",
     "output_type": "stream",
     "text": [
      "Pyramid level sizes:\n",
      "    level 1: 5667 x 12509 (original size)\n",
      "    level 2: 2834 x 6255\n",
      "    level 3: 1417 x 3128\n",
      "    level 4: 709 x 1564\n",
      "    level 5: 355 x 782\n",
      "    level 6: 178 x 391\n",
      "    level 7: 89 x 196\n",
      "\n",
      "Writing level 1: 5667 x 12509\n",
      "    channel 1\n",
      "    channel 2\n",
      "    channel 3\n",
      "    channel 4\n",
      "    channel 5\n",
      "    channel 6\n",
      "    channel 7\n",
      "    channel 8\n",
      "    channel 9\n",
      "    channel 10\n",
      "    channel 11\n",
      "    channel 12\n",
      "    channel 13\n",
      "    channel 14\n",
      "    channel 15\n",
      "    channel 16\n",
      "    channel 17\n",
      "    channel 18\n",
      "    channel 19\n",
      "    channel 20\n",
      "    channel 21\n",
      "    channel 22\n",
      "    channel 23\n",
      "    channel 24\n",
      "    channel 25\n",
      "    channel 26\n",
      "\n",
      "Resizing image for level 2: 2834 x 6255\n",
      "Resizing image for level 3: 1417 x 3128\n",
      "Resizing image for level 4: 709 x 1564\n",
      "Resizing image for level 5: 355 x 782\n",
      "Resizing image for level 6: 178 x 391\n",
      "Resizing image for level 7: 89 x 196\n"
     ]
    },
    {
     "name": "stderr",
     "output_type": "stream",
     "text": [
      "Cropping regions:  17%|█▋        | 1/6 [00:29<02:25, 29.15s/it]"
     ]
    },
    {
     "name": "stdout",
     "output_type": "stream",
     "text": [
      "\n",
      "Pyramid level sizes:\n",
      "    level 1: 5861 x 11782 (original size)\n",
      "    level 2: 2931 x 5891\n",
      "    level 3: 1466 x 2946\n",
      "    level 4: 733 x 1473\n",
      "    level 5: 367 x 737\n",
      "    level 6: 184 x 369\n",
      "    level 7: 92 x 185\n",
      "\n",
      "Writing level 1: 5861 x 11782\n",
      "    channel 1\n",
      "    channel 2\n",
      "    channel 3\n",
      "    channel 4\n",
      "    channel 5\n",
      "    channel 6\n",
      "    channel 7\n",
      "    channel 8\n",
      "    channel 9\n",
      "    channel 10\n",
      "    channel 11\n",
      "    channel 12\n",
      "    channel 13\n",
      "    channel 14\n",
      "    channel 15\n",
      "    channel 16\n",
      "    channel 17\n",
      "    channel 18\n",
      "    channel 19\n",
      "    channel 20\n",
      "    channel 21\n",
      "    channel 22\n",
      "    channel 23\n",
      "    channel 24\n",
      "    channel 25\n",
      "    channel 26\n",
      "\n",
      "Resizing image for level 2: 2931 x 5891\n",
      "Resizing image for level 3: 1466 x 2946\n",
      "Resizing image for level 4: 733 x 1473\n",
      "Resizing image for level 5: 367 x 737\n",
      "Resizing image for level 6: 184 x 369\n",
      "Resizing image for level 7: 92 x 185\n"
     ]
    },
    {
     "name": "stderr",
     "output_type": "stream",
     "text": [
      "Cropping regions:  33%|███▎      | 2/6 [00:56<01:52, 28.15s/it]"
     ]
    },
    {
     "name": "stdout",
     "output_type": "stream",
     "text": [
      "\n",
      "Pyramid level sizes:\n",
      "    level 1: 13258 x 16552 (original size)\n",
      "    level 2: 6629 x 8276\n",
      "    level 3: 3315 x 4138\n",
      "    level 4: 1658 x 2069\n",
      "    level 5: 829 x 1035\n",
      "    level 6: 415 x 518\n",
      "    level 7: 208 x 259\n",
      "    level 8: 104 x 130\n",
      "\n",
      "Writing level 1: 13258 x 16552\n",
      "    channel 1\n",
      "    channel 2\n",
      "    channel 3\n",
      "    channel 4\n",
      "    channel 5\n",
      "    channel 6\n",
      "    channel 7\n",
      "    channel 8\n",
      "    channel 9\n",
      "    channel 10\n",
      "    channel 11\n",
      "    channel 12\n",
      "    channel 13\n",
      "    channel 14\n",
      "    channel 15\n",
      "    channel 16\n",
      "    channel 17\n",
      "    channel 18\n",
      "    channel 19\n",
      "    channel 20\n",
      "    channel 21\n",
      "    channel 22\n",
      "    channel 23\n",
      "    channel 24\n",
      "    channel 25\n",
      "    channel 26\n",
      "\n",
      "Resizing image for level 2: 6629 x 8276\n",
      "Resizing image for level 3: 3315 x 4138\n",
      "Resizing image for level 4: 1658 x 2069\n",
      "Resizing image for level 5: 829 x 1035\n",
      "Resizing image for level 6: 415 x 518\n",
      "Resizing image for level 7: 208 x 259\n",
      "Resizing image for level 8: 104 x 130\n"
     ]
    },
    {
     "name": "stderr",
     "output_type": "stream",
     "text": [
      "Cropping regions:  50%|█████     | 3/6 [02:20<02:40, 53.55s/it]"
     ]
    },
    {
     "name": "stdout",
     "output_type": "stream",
     "text": [
      "\n",
      "Pyramid level sizes:\n",
      "    level 1: 13975 x 15925 (original size)\n",
      "    level 2: 6988 x 7963\n",
      "    level 3: 3494 x 3982\n",
      "    level 4: 1747 x 1991\n",
      "    level 5: 874 x 996\n",
      "    level 6: 437 x 498\n",
      "    level 7: 219 x 249\n",
      "\n",
      "Writing level 1: 13975 x 15925\n",
      "    channel 1\n",
      "    channel 2\n",
      "    channel 3\n",
      "    channel 4\n",
      "    channel 5\n",
      "    channel 6\n",
      "    channel 7\n",
      "    channel 8\n",
      "    channel 9\n",
      "    channel 10\n",
      "    channel 11\n",
      "    channel 12\n",
      "    channel 13\n",
      "    channel 14\n",
      "    channel 15\n",
      "    channel 16\n",
      "    channel 17\n",
      "    channel 18\n",
      "    channel 19\n",
      "    channel 20\n",
      "    channel 21\n",
      "    channel 22\n",
      "    channel 23\n",
      "    channel 24\n",
      "    channel 25\n",
      "    channel 26\n",
      "\n",
      "Resizing image for level 2: 6988 x 7963\n",
      "Resizing image for level 3: 3494 x 3982\n",
      "Resizing image for level 4: 1747 x 1991\n",
      "Resizing image for level 5: 874 x 996\n",
      "Resizing image for level 6: 437 x 498\n"
     ]
    },
    {
     "name": "stderr",
     "output_type": "stream",
     "text": [
      "Cropping regions:  67%|██████▋   | 4/6 [03:43<02:10, 65.12s/it]"
     ]
    },
    {
     "name": "stdout",
     "output_type": "stream",
     "text": [
      "Resizing image for level 7: 219 x 249\n",
      "\n",
      "Pyramid level sizes:\n",
      "    level 1: 14475 x 10360 (original size)\n",
      "    level 2: 7238 x 5180\n",
      "    level 3: 3619 x 2590\n",
      "    level 4: 1810 x 1295\n",
      "    level 5: 905 x 648\n",
      "    level 6: 453 x 324\n",
      "    level 7: 227 x 162\n",
      "\n",
      "Writing level 1: 14475 x 10360\n",
      "    channel 1\n",
      "    channel 2\n",
      "    channel 3\n",
      "    channel 4\n",
      "    channel 5\n",
      "    channel 6\n",
      "    channel 7\n",
      "    channel 8\n",
      "    channel 9\n",
      "    channel 10\n",
      "    channel 11\n",
      "    channel 12\n",
      "    channel 13\n",
      "    channel 14\n",
      "    channel 15\n",
      "    channel 16\n",
      "    channel 17\n",
      "    channel 18\n",
      "    channel 19\n",
      "    channel 20\n",
      "    channel 21\n",
      "    channel 22\n",
      "    channel 23\n",
      "    channel 24\n",
      "    channel 25\n",
      "    channel 26\n",
      "\n",
      "Resizing image for level 2: 7238 x 5180\n",
      "Resizing image for level 3: 3619 x 2590\n",
      "Resizing image for level 4: 1810 x 1295\n",
      "Resizing image for level 5: 905 x 648\n",
      "Resizing image for level 6: 453 x 324\n"
     ]
    },
    {
     "name": "stderr",
     "output_type": "stream",
     "text": [
      "Cropping regions:  83%|████████▎ | 5/6 [04:45<01:04, 64.06s/it]"
     ]
    },
    {
     "name": "stdout",
     "output_type": "stream",
     "text": [
      "Resizing image for level 7: 227 x 162\n",
      "\n",
      "Pyramid level sizes:\n",
      "    level 1: 9047 x 12679 (original size)\n",
      "    level 2: 4524 x 6340\n",
      "    level 3: 2262 x 3170\n",
      "    level 4: 1131 x 1585\n",
      "    level 5: 566 x 793\n",
      "    level 6: 283 x 397\n",
      "    level 7: 142 x 199\n",
      "\n",
      "Writing level 1: 9047 x 12679\n",
      "    channel 1\n",
      "    channel 2\n",
      "    channel 3\n",
      "    channel 4\n",
      "    channel 5\n",
      "    channel 6\n",
      "    channel 7\n",
      "    channel 8\n",
      "    channel 9\n",
      "    channel 10\n",
      "    channel 11\n",
      "    channel 12\n",
      "    channel 13\n",
      "    channel 14\n",
      "    channel 15\n",
      "    channel 16\n",
      "    channel 17\n",
      "    channel 18\n",
      "    channel 19\n",
      "    channel 20\n",
      "    channel 21\n",
      "    channel 22\n",
      "    channel 23\n",
      "    channel 24\n",
      "    channel 25\n",
      "    channel 26\n",
      "\n",
      "Resizing image for level 2: 4524 x 6340\n",
      "Resizing image for level 3: 2262 x 3170\n",
      "Resizing image for level 4: 1131 x 1585\n",
      "Resizing image for level 5: 566 x 793\n",
      "Resizing image for level 6: 283 x 397\n"
     ]
    },
    {
     "name": "stderr",
     "output_type": "stream",
     "text": [
      "Cropping regions: 100%|██████████| 6/6 [05:39<00:00, 56.58s/it]"
     ]
    },
    {
     "name": "stdout",
     "output_type": "stream",
     "text": [
      "Resizing image for level 7: 142 x 199\n",
      "\n"
     ]
    },
    {
     "name": "stderr",
     "output_type": "stream",
     "text": [
      "\n"
     ]
    }
   ],
   "source": [
    "# Load QPTIFF file\n",
    "im_dict = load_tiff_to_dict(\n",
    "    path_qptiff,\n",
    "    filetype=\"qptiff\",\n",
    "    channels_order=channels_order,\n",
    "    channels_rename=channels_rename,\n",
    "    path_markerlist=path_markerlist,\n",
    ")\n",
    "\n",
    "# Crop QPTIFF file into multiple OME-TIFF files\n",
    "for name, crop_im_dict in crop_dict_by_geojson(im_dict, path_geojson):\n",
    "    path_ometiff = dir_output / name / f\"{name}.ome.tiff\"\n",
    "    path_ometiff.parent.mkdir(parents=True, exist_ok=True)\n",
    "    if path_ometiff.exists():\n",
    "        os.remove(path_ometiff)\n",
    "    export_ometiff_pyramid_from_dict(crop_im_dict, str(path_ometiff))"
   ]
  },
  {
   "cell_type": "markdown",
   "metadata": {},
   "source": [
    "# 05. Review Output\n",
    "\n",
    "A OME-TIFF file for each region is exported under directory for each region. "
   ]
  },
  {
   "cell_type": "code",
   "execution_count": 8,
   "metadata": {},
   "outputs": [
    {
     "name": "stdout",
     "output_type": "stream",
     "text": [
      "\u001b[01;34m/mnt/nfs/storage/wenruiwu_temp/pipeline/fusion/01_preprocess\u001b[00m\n",
      "├── \u001b[01;34mreg001\u001b[00m\n",
      "│   └── reg001.ome.tiff\n",
      "├── \u001b[01;34mreg002\u001b[00m\n",
      "│   └── reg002.ome.tiff\n",
      "├── \u001b[01;34mreg003\u001b[00m\n",
      "│   └── reg003.ome.tiff\n",
      "├── \u001b[01;34mreg004\u001b[00m\n",
      "│   └── reg004.ome.tiff\n",
      "├── \u001b[01;34mreg005\u001b[00m\n",
      "│   └── reg005.ome.tiff\n",
      "└── \u001b[01;34mreg006\u001b[00m\n",
      "    └── reg006.ome.tiff\n",
      "\n",
      "6 directories, 6 files\n"
     ]
    }
   ],
   "source": [
    "!tree $dir_output"
   ]
  }
 ],
 "metadata": {
  "kernelspec": {
   "display_name": "cellSeg_test",
   "language": "python",
   "name": "python3"
  },
  "language_info": {
   "codemirror_mode": {
    "name": "ipython",
    "version": 3
   },
   "file_extension": ".py",
   "mimetype": "text/x-python",
   "name": "python",
   "nbconvert_exporter": "python",
   "pygments_lexer": "ipython3",
   "version": "3.9.16"
  }
 },
 "nbformat": 4,
 "nbformat_minor": 2
}
