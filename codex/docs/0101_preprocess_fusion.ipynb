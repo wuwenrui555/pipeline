{
 "cells": [
  {
   "cell_type": "markdown",
   "metadata": {},
   "source": [
    "# Data Preprocess for Fusion Data\n",
    "\n",
    "Wenrui Wu, 2024-12-28"
   ]
  },
  {
   "cell_type": "code",
   "execution_count": 1,
   "metadata": {},
   "outputs": [
    {
     "name": "stderr",
     "output_type": "stream",
     "text": [
      "/opt/miniconda3/envs/cellSeg_test/lib/python3.9/site-packages/tqdm_joblib/__init__.py:4: TqdmExperimentalWarning: Using `tqdm.autonotebook.tqdm` in notebook mode. Use `tqdm.tqdm` instead to force console mode (e.g. in jupyter console)\n",
      "  from tqdm.autonotebook import tqdm\n"
     ]
    }
   ],
   "source": [
    "import os\n",
    "from pathlib import Path\n",
    "\n",
    "import numpy as np\n",
    "from pyqupath.geojson import crop_dict_by_geojson\n",
    "from pyqupath.ometiff import export_ometiff_pyramid_from_dict, load_tiff_to_dict"
   ]
  },
  {
   "cell_type": "markdown",
   "metadata": {},
   "source": [
    "## 01. Data Structure\n",
    "\n",
    "The output data structure of Fusion platform is: \n",
    "\n",
    "```\n",
    "Scan1\n",
    "├── [name].qptiff\n",
    "└── .temp\n",
    "    └── MarkerList.txt\n",
    "```"
   ]
  },
  {
   "cell_type": "markdown",
   "metadata": {},
   "source": [
    "## 02. Organize Data\n",
    "\n",
    "CODEX downstream analysis is usually performed on the core/region level. So you need to first crop the whole slide image into multiple regions. \n",
    "\n",
    "- Annotate different regions using QuPath and its Polygon tools. Export the annotation as GeoJSON file. \n",
    "\n",
    "- Put the following files into a folder (`dir_root`):\n",
    "    - `.qptiff`\n",
    "\n",
    "    - `MarkerList.txt`\n",
    "    \n",
    "    - `cropping_regions.geojson`\n",
    "\n",
    "```\n",
    "/path/dir_root\n",
    "├── [name].qptiff\n",
    "├── cropping_regions.geojson\n",
    "└── MarkerList.txt\n",
    "```"
   ]
  },
  {
   "cell_type": "code",
   "execution_count": 2,
   "metadata": {},
   "outputs": [
    {
     "name": "stdout",
     "output_type": "stream",
     "text": [
      "\u001b[01;34m/mnt/nfs/storage/wenruiwu_temp/pipeline/fusion/00_raw_data\u001b[00m\n",
      "├── cropping_regions.geojson\n",
      "├── \u001b[01;32mMarkerList.txt\u001b[00m\n",
      "└── Periodontal_CODEX-S8_Scan1.er.qptiff\n",
      "\n",
      "0 directories, 3 files\n"
     ]
    }
   ],
   "source": [
    "################################################################################\n",
    "dir_root = \"/mnt/nfs/storage/wenruiwu_temp/pipeline/fusion/00_raw_data/\"\n",
    "################################################################################\n",
    "\n",
    "dir_root = Path(dir_root)\n",
    "\n",
    "# review all the files in the root directory\n",
    "!tree $dir_root"
   ]
  },
  {
   "cell_type": "code",
   "execution_count": 3,
   "metadata": {},
   "outputs": [],
   "source": [
    "# parse the dir_root\n",
    "path_markerlist = dir_root / \"MarkerList.txt\"\n",
    "path_geojson = dir_root / \"cropping_regions.geojson\"\n",
    "paths_qptiff = list(dir_root.glob(\"*.qptiff\"))\n",
    "if len(paths_qptiff) == 1:\n",
    "    path_qptiff = paths_qptiff[0]\n",
    "else:\n",
    "    raise ValueError(\"There should be only one qptiff file in the directory\")"
   ]
  },
  {
   "cell_type": "code",
   "execution_count": 4,
   "metadata": {},
   "outputs": [
    {
     "data": {
      "text/plain": [
       "['DAPI',\n",
       " 'CD56',\n",
       " 'CD3e',\n",
       " 'CD8',\n",
       " 'CD15',\n",
       " 'CD138',\n",
       " 'HLA-E',\n",
       " 'CD45',\n",
       " 'CD31',\n",
       " 'CD68',\n",
       " 'Pax5',\n",
       " 'CD11b',\n",
       " 'CD11c',\n",
       " 'CD4',\n",
       " 'MUC5AC',\n",
       " 'MUC5B',\n",
       " 'HLA-DR',\n",
       " 'CD44',\n",
       " 'ICOS',\n",
       " 'E-cadherin',\n",
       " 'COLA1',\n",
       " 'KRT14',\n",
       " 'a-SMA',\n",
       " 'HLA-1',\n",
       " 'Ki67',\n",
       " 'Vimentin',\n",
       " 'Blank-75',\n",
       " 'Blank-75']"
      ]
     },
     "execution_count": 4,
     "metadata": {},
     "output_type": "execute_result"
    }
   ],
   "source": [
    "# review the channels in the qptiff file\n",
    "channels_name = np.loadtxt(path_markerlist, dtype=str).tolist()\n",
    "channels_name"
   ]
  },
  {
   "cell_type": "markdown",
   "metadata": {},
   "source": [
    "## 03. Order and Rename Markers\n",
    "\n",
    "`channels_order`: select and order markers from the `MarkerList.txt`. \n",
    "\n",
    "`channels_rename`: in the same length of `channels_order`, which are the corresponding new names for markers in the `channels_order`. "
   ]
  },
  {
   "cell_type": "code",
   "execution_count": 5,
   "metadata": {},
   "outputs": [],
   "source": [
    "################################################################################\n",
    "# selcet the channels that are needed (e.g., exclude the Blank channels)\")\n",
    "channels_order = [\n",
    "    \"DAPI\",\n",
    "    \"CD45\",\n",
    "    \"CD3e\",\n",
    "    \"CD4\",\n",
    "    \"CD8\",\n",
    "    \"CD56\",\n",
    "    \"CD11b\",\n",
    "    \"CD11c\",\n",
    "    \"CD138\",\n",
    "    \"Pax5\",\n",
    "    \"CD68\",\n",
    "    \"CD15\",\n",
    "    \"CD31\",\n",
    "    \"HLA-E\",\n",
    "    \"HLA-DR\",\n",
    "    \"E-cadherin\",\n",
    "    \"MUC5AC\",\n",
    "    \"MUC5B\",\n",
    "    \"COLA1\",\n",
    "    \"KRT14\",\n",
    "    \"a-SMA\",\n",
    "    \"Vimentin\",\n",
    "    \"ICOS\",\n",
    "    \"CD44\",\n",
    "    \"Ki67\",\n",
    "    \"HLA-1\",\n",
    "]\n",
    "channels_rename = None  # If None, the channels will not be renamed\n",
    "################################################################################"
   ]
  },
  {
   "cell_type": "markdown",
   "metadata": {},
   "source": [
    "## 04. Crop QPTIFF into Multiple OME-TIFF"
   ]
  },
  {
   "cell_type": "code",
   "execution_count": 6,
   "metadata": {},
   "outputs": [],
   "source": [
    "################################################################################  \n",
    "dir_output = \"/mnt/nfs/storage/wenruiwu_temp/pipeline/fusion/01_preprocess/\"\n",
    "################################################################################\n",
    "\n",
    "dir_output = Path(dir_output)"
   ]
  },
  {
   "cell_type": "code",
   "execution_count": 7,
   "metadata": {},
   "outputs": [
    {
     "name": "stderr",
     "output_type": "stream",
     "text": [
      "Loading images:   0%|          | 0/26 [00:00<?, ?it/s]"
     ]
    },
    {
     "name": "stderr",
     "output_type": "stream",
     "text": [
      "Loading images: 100%|██████████| 26/26 [00:31<00:00,  1.23s/it]\n"
     ]
    }
   ],
   "source": [
    "# Load QPTIFF file\n",
    "im_dict = load_tiff_to_dict(\n",
    "    path_qptiff,\n",
    "    filetype=\"qptiff\",\n",
    "    channels_order=channels_order,\n",
    "    channels_rename=channels_rename,\n",
    "    path_markerlist=path_markerlist,\n",
    ")"
   ]
  },
  {
   "cell_type": "code",
   "execution_count": 8,
   "metadata": {},
   "outputs": [
    {
     "name": "stderr",
     "output_type": "stream",
     "text": [
      "Cropping regions:   0%|          | 0/6 [00:00<?, ?it/s]"
     ]
    },
    {
     "name": "stdout",
     "output_type": "stream",
     "text": [
      "Cropping OME-TIFF for: reg001\n"
     ]
    },
    {
     "name": "stderr",
     "output_type": "stream",
     "text": [
      "Writing images: 100%|██████████| 7/7 [00:25<00:00,  3.62s/it]\n",
      "Cropping regions:  17%|█▋        | 1/6 [00:28<02:24, 28.89s/it]"
     ]
    },
    {
     "name": "stdout",
     "output_type": "stream",
     "text": [
      "\n",
      "Cropping OME-TIFF for: reg002\n"
     ]
    },
    {
     "name": "stderr",
     "output_type": "stream",
     "text": [
      "Writing images: 100%|██████████| 7/7 [00:24<00:00,  3.45s/it]\n",
      "Cropping regions:  33%|███▎      | 2/6 [00:56<01:52, 28.18s/it]"
     ]
    },
    {
     "name": "stdout",
     "output_type": "stream",
     "text": [
      "\n",
      "Cropping OME-TIFF for: reg003\n"
     ]
    },
    {
     "name": "stderr",
     "output_type": "stream",
     "text": [
      "Writing images: 100%|██████████| 8/8 [01:14<00:00,  9.35s/it]\n",
      "Cropping regions:  50%|█████     | 3/6 [02:19<02:39, 53.16s/it]"
     ]
    },
    {
     "name": "stdout",
     "output_type": "stream",
     "text": [
      "\n",
      "Cropping OME-TIFF for: reg004\n"
     ]
    },
    {
     "name": "stderr",
     "output_type": "stream",
     "text": [
      "Writing images: 100%|██████████| 7/7 [01:11<00:00, 10.25s/it]\n",
      "Cropping regions:  67%|██████▋   | 4/6 [03:40<02:08, 64.27s/it]"
     ]
    },
    {
     "name": "stdout",
     "output_type": "stream",
     "text": [
      "\n",
      "Cropping OME-TIFF for: reg005\n"
     ]
    },
    {
     "name": "stderr",
     "output_type": "stream",
     "text": [
      "Writing images: 100%|██████████| 7/7 [00:54<00:00,  7.77s/it]\n",
      "Cropping regions:  83%|████████▎ | 5/6 [04:42<01:03, 63.30s/it]"
     ]
    },
    {
     "name": "stdout",
     "output_type": "stream",
     "text": [
      "\n",
      "Cropping OME-TIFF for: reg006\n"
     ]
    },
    {
     "name": "stderr",
     "output_type": "stream",
     "text": [
      "Writing images: 100%|██████████| 7/7 [00:45<00:00,  6.47s/it]\n",
      "Cropping regions: 100%|██████████| 6/6 [05:34<00:00, 55.67s/it]"
     ]
    },
    {
     "name": "stdout",
     "output_type": "stream",
     "text": [
      "\n"
     ]
    },
    {
     "name": "stderr",
     "output_type": "stream",
     "text": [
      "\n"
     ]
    }
   ],
   "source": [
    "# Crop QPTIFF file into multiple OME-TIFF files\n",
    "for name, crop_im_dict in crop_dict_by_geojson(im_dict, path_geojson):\n",
    "    print(f\"Cropping OME-TIFF for: {name}\")\n",
    "    path_ometiff = dir_output / name / f\"{name}.ome.tiff\"\n",
    "    path_ometiff.parent.mkdir(parents=True, exist_ok=True)\n",
    "    if path_ometiff.exists():\n",
    "        os.remove(path_ometiff)\n",
    "    export_ometiff_pyramid_from_dict(crop_im_dict, str(path_ometiff))"
   ]
  },
  {
   "cell_type": "markdown",
   "metadata": {},
   "source": [
    "# 05. Review Output\n",
    "\n",
    "A OME-TIFF file for each region is exported under directory for each region. "
   ]
  },
  {
   "cell_type": "code",
   "execution_count": 9,
   "metadata": {},
   "outputs": [
    {
     "name": "stdout",
     "output_type": "stream",
     "text": [
      "\u001b[01;34m/mnt/nfs/storage/wenruiwu_temp/pipeline/fusion/01_preprocess\u001b[00m\n",
      "├── \u001b[01;34mreg001\u001b[00m\n",
      "│   └── reg001.ome.tiff\n",
      "├── \u001b[01;34mreg002\u001b[00m\n",
      "│   └── reg002.ome.tiff\n",
      "├── \u001b[01;34mreg003\u001b[00m\n",
      "│   └── reg003.ome.tiff\n",
      "├── \u001b[01;34mreg004\u001b[00m\n",
      "│   └── reg004.ome.tiff\n",
      "├── \u001b[01;34mreg005\u001b[00m\n",
      "│   └── reg005.ome.tiff\n",
      "└── \u001b[01;34mreg006\u001b[00m\n",
      "    └── reg006.ome.tiff\n",
      "\n",
      "6 directories, 6 files\n"
     ]
    }
   ],
   "source": [
    "!tree $dir_output"
   ]
  }
 ],
 "metadata": {
  "kernelspec": {
   "display_name": "cellSeg_test",
   "language": "python",
   "name": "python3"
  },
  "language_info": {
   "codemirror_mode": {
    "name": "ipython",
    "version": 3
   },
   "file_extension": ".py",
   "mimetype": "text/x-python",
   "name": "python",
   "nbconvert_exporter": "python",
   "pygments_lexer": "ipython3",
   "version": "3.9.16"
  }
 },
 "nbformat": 4,
 "nbformat_minor": 2
}
